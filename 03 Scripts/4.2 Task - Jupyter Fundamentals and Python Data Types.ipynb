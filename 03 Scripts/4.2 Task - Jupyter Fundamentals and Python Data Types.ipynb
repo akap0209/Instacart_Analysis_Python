{
 "cells": [
  {
   "cell_type": "markdown",
   "id": "c7cff0b1",
   "metadata": {},
   "source": [
    "#01. Importing libraries"
   ]
  },
  {
   "cell_type": "markdown",
   "id": "db1e740a",
   "metadata": {},
   "source": [
    "# Import libraries\n",
    "import pandas as pd\n",
    "import numpy as np\n",
    "import os"
   ]
  },
  {
   "cell_type": "markdown",
   "id": "3789fc86",
   "metadata": {},
   "source": [
    "#python data types\n"
   ]
  },
  {
   "cell_type": "code",
   "execution_count": null,
   "id": "22211a3b",
   "metadata": {},
   "outputs": [],
   "source": [
    "##addition and subtraction"
   ]
  },
  {
   "cell_type": "code",
   "execution_count": 5,
   "id": "b730febd",
   "metadata": {},
   "outputs": [],
   "source": [
    "x=52"
   ]
  },
  {
   "cell_type": "code",
   "execution_count": 6,
   "id": "bdca77d3",
   "metadata": {},
   "outputs": [],
   "source": [
    "y=48"
   ]
  },
  {
   "cell_type": "code",
   "execution_count": 7,
   "id": "4aea71ef",
   "metadata": {},
   "outputs": [
    {
     "data": {
      "text/plain": [
       "100"
      ]
     },
     "execution_count": 7,
     "metadata": {},
     "output_type": "execute_result"
    }
   ],
   "source": [
    "x+y"
   ]
  },
  {
   "cell_type": "code",
   "execution_count": 9,
   "id": "0758bf4a",
   "metadata": {},
   "outputs": [
    {
     "name": "stdout",
     "output_type": "stream",
     "text": [
      "100\n"
     ]
    }
   ],
   "source": [
    "print(x+y)"
   ]
  },
  {
   "cell_type": "code",
   "execution_count": 29,
   "id": "d42f6c00",
   "metadata": {},
   "outputs": [],
   "source": [
    "x=150"
   ]
  },
  {
   "cell_type": "code",
   "execution_count": 30,
   "id": "c0240f9e",
   "metadata": {},
   "outputs": [],
   "source": [
    "y=50"
   ]
  },
  {
   "cell_type": "code",
   "execution_count": 31,
   "id": "0b151848",
   "metadata": {},
   "outputs": [
    {
     "data": {
      "text/plain": [
       "100"
      ]
     },
     "execution_count": 31,
     "metadata": {},
     "output_type": "execute_result"
    }
   ],
   "source": [
    "y+50"
   ]
  },
  {
   "cell_type": "code",
   "execution_count": 12,
   "id": "63d95ccf",
   "metadata": {
    "scrolled": true
   },
   "outputs": [
    {
     "data": {
      "text/plain": [
       "100"
      ]
     },
     "execution_count": 12,
     "metadata": {},
     "output_type": "execute_result"
    }
   ],
   "source": [
    "x-y"
   ]
  },
  {
   "cell_type": "code",
   "execution_count": 18,
   "id": "04f96767",
   "metadata": {},
   "outputs": [
    {
     "data": {
      "text/plain": [
       "int"
      ]
     },
     "execution_count": 18,
     "metadata": {},
     "output_type": "execute_result"
    }
   ],
   "source": [
    "type(y)"
   ]
  },
  {
   "cell_type": "code",
   "execution_count": null,
   "id": "f3587891",
   "metadata": {},
   "outputs": [],
   "source": [
    "##floating-point variables"
   ]
  },
  {
   "cell_type": "code",
   "execution_count": 32,
   "id": "4175c8c0",
   "metadata": {},
   "outputs": [],
   "source": [
    "y=7.56"
   ]
  },
  {
   "cell_type": "code",
   "execution_count": 33,
   "id": "518a56a0",
   "metadata": {},
   "outputs": [],
   "source": [
    "z=4.57"
   ]
  },
  {
   "cell_type": "code",
   "execution_count": 27,
   "id": "99a60a94",
   "metadata": {},
   "outputs": [
    {
     "data": {
      "text/plain": [
       "1.6542669584245075"
      ]
     },
     "execution_count": 27,
     "metadata": {},
     "output_type": "execute_result"
    }
   ],
   "source": [
    "y/z"
   ]
  },
  {
   "cell_type": "code",
   "execution_count": null,
   "id": "2155b652",
   "metadata": {},
   "outputs": [],
   "source": [
    "##Strings"
   ]
  },
  {
   "cell_type": "code",
   "execution_count": 39,
   "id": "9918f073",
   "metadata": {},
   "outputs": [],
   "source": [
    "a='Hello, '"
   ]
  },
  {
   "cell_type": "code",
   "execution_count": 38,
   "id": "a9b13b9b",
   "metadata": {},
   "outputs": [],
   "source": [
    "b='Alex'"
   ]
  },
  {
   "cell_type": "code",
   "execution_count": 40,
   "id": "5a8e204c",
   "metadata": {},
   "outputs": [
    {
     "data": {
      "text/plain": [
       "'Hello, Alex'"
      ]
     },
     "execution_count": 40,
     "metadata": {},
     "output_type": "execute_result"
    }
   ],
   "source": [
    "a+b"
   ]
  },
  {
   "cell_type": "code",
   "execution_count": 42,
   "id": "d2870fd5",
   "metadata": {},
   "outputs": [],
   "source": [
    "a='Hi, '"
   ]
  },
  {
   "cell_type": "code",
   "execution_count": 46,
   "id": "6dbbc085",
   "metadata": {},
   "outputs": [],
   "source": [
    "b='How are '"
   ]
  },
  {
   "cell_type": "code",
   "execution_count": 53,
   "id": "aa6ca133",
   "metadata": {},
   "outputs": [],
   "source": [
    "c='you doing today'"
   ]
  },
  {
   "cell_type": "code",
   "execution_count": 54,
   "id": "bae481d8",
   "metadata": {},
   "outputs": [
    {
     "data": {
      "text/plain": [
       "'Hi, How, are you doing today'"
      ]
     },
     "execution_count": 54,
     "metadata": {},
     "output_type": "execute_result"
    }
   ],
   "source": [
    "a+b+c\n"
   ]
  },
  {
   "cell_type": "code",
   "execution_count": 57,
   "id": "2c7789c1",
   "metadata": {},
   "outputs": [],
   "source": [
    "a='The weather '"
   ]
  },
  {
   "cell_type": "code",
   "execution_count": 58,
   "id": "627a15e1",
   "metadata": {},
   "outputs": [],
   "source": [
    "b='is rainy in Atlanta'"
   ]
  },
  {
   "cell_type": "code",
   "execution_count": 59,
   "id": "b4d8c752",
   "metadata": {},
   "outputs": [
    {
     "data": {
      "text/plain": [
       "'The weather is rainy in Atlanta'"
      ]
     },
     "execution_count": 59,
     "metadata": {},
     "output_type": "execute_result"
    }
   ],
   "source": [
    "a+b"
   ]
  },
  {
   "cell_type": "code",
   "execution_count": null,
   "id": "063a838e",
   "metadata": {},
   "outputs": [],
   "source": [
    "##Bonus Task"
   ]
  },
  {
   "cell_type": "code",
   "execution_count": 60,
   "id": "15585852",
   "metadata": {},
   "outputs": [],
   "source": [
    "n='Python'"
   ]
  },
  {
   "cell_type": "code",
   "execution_count": 61,
   "id": "7a0d23e1",
   "metadata": {},
   "outputs": [
    {
     "data": {
      "text/plain": [
       "'PythonPythonPythonPythonPythonPythonPythonPythonPythonPythonPythonPythonPythonPythonPythonPythonPythonPythonPythonPythonPythonPythonPythonPythonPythonPythonPythonPythonPythonPythonPythonPythonPythonPythonPythonPythonPythonPythonPythonPythonPythonPythonPythonPythonPythonPythonPythonPythonPythonPythonPythonPythonPythonPythonPythonPythonPythonPythonPythonPythonPythonPythonPythonPythonPythonPythonPythonPythonPythonPythonPythonPythonPythonPythonPythonPythonPythonPythonPythonPythonPythonPythonPythonPythonPythonPythonPythonPythonPythonPythonPythonPythonPythonPythonPythonPythonPythonPythonPythonPython'"
      ]
     },
     "execution_count": 61,
     "metadata": {},
     "output_type": "execute_result"
    }
   ],
   "source": [
    "n*100"
   ]
  },
  {
   "cell_type": "code",
   "execution_count": null,
   "id": "ab957362",
   "metadata": {},
   "outputs": [],
   "source": []
  }
 ],
 "metadata": {
  "kernelspec": {
   "display_name": "Python 3 (ipykernel)",
   "language": "python",
   "name": "python3"
  },
  "language_info": {
   "codemirror_mode": {
    "name": "ipython",
    "version": 3
   },
   "file_extension": ".py",
   "mimetype": "text/x-python",
   "name": "python",
   "nbconvert_exporter": "python",
   "pygments_lexer": "ipython3",
   "version": "3.11.3"
  }
 },
 "nbformat": 4,
 "nbformat_minor": 5
}
