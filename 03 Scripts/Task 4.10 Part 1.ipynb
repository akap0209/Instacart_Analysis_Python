{
 "cells": [
  {
   "cell_type": "markdown",
   "id": "77435f91-cf19-487f-a210-c7bb87b76aa3",
   "metadata": {},
   "source": [
    "# Table of Contents\n",
    "### 01. Import Merged Data\n",
    "### 02. PII\n",
    "### 03. Spending Habits Between Regions\n",
    "### 04. Creating Segmentation\n",
    "### 05. Customer Profiling\n",
    "### 06. Visualizations\n",
    "### 07. Aggregate Frequency of Usage and Expenditure.\n",
    "### 08&09. Customers Profiles Across Regions and Departments with Visualizations\n",
    "### 10. Export Data"
   ]
  },
  {
   "cell_type": "markdown",
   "id": "40a3d972-15b1-4bf1-87e9-f21b352cc0c9",
   "metadata": {},
   "source": [
    "# Question 1. Importing Merged Data"
   ]
  },
  {
   "cell_type": "code",
   "execution_count": 16,
   "id": "669ae658-d53e-41aa-b1f9-a827458344e7",
   "metadata": {
    "tags": []
   },
   "outputs": [],
   "source": [
    "#Import libraries\n",
    "import pandas as pd\n",
    "import numpy as np\n",
    "import os\n",
    "import matplotlib.pyplot as plt\n",
    "import seaborn as sns\n",
    "import scipy"
   ]
  },
  {
   "cell_type": "code",
   "execution_count": 17,
   "id": "6dc31f5b-6a24-4664-8eb3-7a5b339600b9",
   "metadata": {
    "tags": []
   },
   "outputs": [],
   "source": [
    "#pathway to dataframes\n",
    "path = r'C:\\Users\\ajkap\\Instacart Basket Analysis'"
   ]
  },
  {
   "cell_type": "code",
   "execution_count": 18,
   "id": "e8bd80fc-1d25-4819-bf2f-2b35a2d695c2",
   "metadata": {
    "tags": []
   },
   "outputs": [],
   "source": [
    "#Importing 'ords_prods_merged_aggregated_2_.pkl'\n",
    "df_merged_clean = pd.read_pickle(os.path.join(path, '02 Data', 'Prepared Data', 'ords_prods_merged_aggregated_2_.pkl'))"
   ]
  },
  {
   "cell_type": "markdown",
   "id": "485d4283-2211-4ca5-8288-f8dbd24a46e6",
   "metadata": {},
   "source": [
    "## Sensitive customer data such as their names, address, email and any other personally identifiable information should be deleted. Upper management can also instruct on how to handle PII information in the data."
   ]
  },
  {
   "cell_type": "markdown",
   "id": "a407a53a-9162-4888-be9e-b54c85352ce7",
   "metadata": {},
   "source": [
    "# Question 2. PII"
   ]
  },
  {
   "cell_type": "code",
   "execution_count": 4,
   "id": "3e51a76f-a955-4982-843c-0be2312854ef",
   "metadata": {
    "tags": []
   },
   "outputs": [
    {
     "name": "stdout",
     "output_type": "stream",
     "text": [
      "<class 'pandas.core.frame.DataFrame'>\n",
      "Int64Index: 32406041 entries, 0 to 32406040\n",
      "Data columns (total 35 columns):\n",
      " #   Column                  Dtype   \n",
      "---  ------                  -----   \n",
      " 0   user_id                 int64   \n",
      " 1   first_name              object  \n",
      " 2   last_name               object  \n",
      " 3   gender                  object  \n",
      " 4   state                   object  \n",
      " 5   age                     int64   \n",
      " 6   date_joined             object  \n",
      " 7   n_dependants            int64   \n",
      " 8   fam_status              object  \n",
      " 9   income                  int64   \n",
      " 10  order_id                int64   \n",
      " 11  eval_set                object  \n",
      " 12  order_number            int64   \n",
      " 13  order_dow               int64   \n",
      " 14  order_hour_of_day       int64   \n",
      " 15  days_since_prior_order  float64 \n",
      " 16  product_id              int64   \n",
      " 17  add_to_cart_order       int64   \n",
      " 18  reordered               int64   \n",
      " 19  Unnamed: 0_y            int64   \n",
      " 20  product_name            object  \n",
      " 21  aisle_id                int64   \n",
      " 22  department_id           int64   \n",
      " 23  prices                  float64 \n",
      " 24  price_range_loc         object  \n",
      " 25  busiest_day             object  \n",
      " 26  Busiest days            object  \n",
      " 27  busiest_period_of_day   object  \n",
      " 28  max_order               int64   \n",
      " 29  loyalty_flag            object  \n",
      " 30  average_price           float64 \n",
      " 31  spending_flag           object  \n",
      " 32  median_prior_orders     float64 \n",
      " 33  order_frequency_flag    object  \n",
      " 34  _merge                  category\n",
      "dtypes: category(1), float64(4), int64(15), object(15)\n",
      "memory usage: 8.5+ GB\n"
     ]
    }
   ],
   "source": [
    "# checking dataframe information\n",
    "df_merged_clean.info()"
   ]
  },
  {
   "cell_type": "code",
   "execution_count": 9,
   "id": "edb9d785-de01-41f9-bd68-1a01c4df4c00",
   "metadata": {
    "tags": []
   },
   "outputs": [],
   "source": [
    "# Dropping first and last name (PII) columns from dataframe.\n",
    "df_merged_clean = df_merged_clean.drop(columns = ['first_name', 'last_name'])"
   ]
  },
  {
   "cell_type": "code",
   "execution_count": 10,
   "id": "fd32d1ea-087d-4b01-891c-270b6eb1f20e",
   "metadata": {
    "tags": []
   },
   "outputs": [
    {
     "data": {
      "text/html": [
       "<div>\n",
       "<style scoped>\n",
       "    .dataframe tbody tr th:only-of-type {\n",
       "        vertical-align: middle;\n",
       "    }\n",
       "\n",
       "    .dataframe tbody tr th {\n",
       "        vertical-align: top;\n",
       "    }\n",
       "\n",
       "    .dataframe thead th {\n",
       "        text-align: right;\n",
       "    }\n",
       "</style>\n",
       "<table border=\"1\" class=\"dataframe\">\n",
       "  <thead>\n",
       "    <tr style=\"text-align: right;\">\n",
       "      <th></th>\n",
       "      <th>user_id</th>\n",
       "      <th>gender</th>\n",
       "      <th>state</th>\n",
       "      <th>age</th>\n",
       "      <th>date_joined</th>\n",
       "      <th>n_dependants</th>\n",
       "      <th>fam_status</th>\n",
       "      <th>income</th>\n",
       "      <th>order_id</th>\n",
       "      <th>eval_set</th>\n",
       "      <th>...</th>\n",
       "      <th>busiest_day</th>\n",
       "      <th>Busiest days</th>\n",
       "      <th>busiest_period_of_day</th>\n",
       "      <th>max_order</th>\n",
       "      <th>loyalty_flag</th>\n",
       "      <th>average_price</th>\n",
       "      <th>spending_flag</th>\n",
       "      <th>median_prior_orders</th>\n",
       "      <th>order_frequency_flag</th>\n",
       "      <th>_merge</th>\n",
       "    </tr>\n",
       "  </thead>\n",
       "  <tbody>\n",
       "    <tr>\n",
       "      <th>0</th>\n",
       "      <td>26711</td>\n",
       "      <td>Female</td>\n",
       "      <td>Missouri</td>\n",
       "      <td>48</td>\n",
       "      <td>1/1/2017</td>\n",
       "      <td>3</td>\n",
       "      <td>married</td>\n",
       "      <td>165665</td>\n",
       "      <td>2543867</td>\n",
       "      <td>prior</td>\n",
       "      <td>...</td>\n",
       "      <td>Regularly busy</td>\n",
       "      <td>Busiest days</td>\n",
       "      <td>Most_orders</td>\n",
       "      <td>8</td>\n",
       "      <td>New customer</td>\n",
       "      <td>7.988889</td>\n",
       "      <td>Low spender</td>\n",
       "      <td>19.0</td>\n",
       "      <td>Regular customer</td>\n",
       "      <td>both</td>\n",
       "    </tr>\n",
       "    <tr>\n",
       "      <th>1</th>\n",
       "      <td>26711</td>\n",
       "      <td>Female</td>\n",
       "      <td>Missouri</td>\n",
       "      <td>48</td>\n",
       "      <td>1/1/2017</td>\n",
       "      <td>3</td>\n",
       "      <td>married</td>\n",
       "      <td>165665</td>\n",
       "      <td>1285508</td>\n",
       "      <td>prior</td>\n",
       "      <td>...</td>\n",
       "      <td>Regularly busy</td>\n",
       "      <td>Regularly busy days</td>\n",
       "      <td>Most_orders</td>\n",
       "      <td>8</td>\n",
       "      <td>New customer</td>\n",
       "      <td>7.988889</td>\n",
       "      <td>Low spender</td>\n",
       "      <td>19.0</td>\n",
       "      <td>Regular customer</td>\n",
       "      <td>both</td>\n",
       "    </tr>\n",
       "    <tr>\n",
       "      <th>2</th>\n",
       "      <td>26711</td>\n",
       "      <td>Female</td>\n",
       "      <td>Missouri</td>\n",
       "      <td>48</td>\n",
       "      <td>1/1/2017</td>\n",
       "      <td>3</td>\n",
       "      <td>married</td>\n",
       "      <td>165665</td>\n",
       "      <td>2578584</td>\n",
       "      <td>prior</td>\n",
       "      <td>...</td>\n",
       "      <td>Regularly busy</td>\n",
       "      <td>Busiest days</td>\n",
       "      <td>Most_orders</td>\n",
       "      <td>8</td>\n",
       "      <td>New customer</td>\n",
       "      <td>7.988889</td>\n",
       "      <td>Low spender</td>\n",
       "      <td>19.0</td>\n",
       "      <td>Regular customer</td>\n",
       "      <td>both</td>\n",
       "    </tr>\n",
       "    <tr>\n",
       "      <th>3</th>\n",
       "      <td>26711</td>\n",
       "      <td>Female</td>\n",
       "      <td>Missouri</td>\n",
       "      <td>48</td>\n",
       "      <td>1/1/2017</td>\n",
       "      <td>3</td>\n",
       "      <td>married</td>\n",
       "      <td>165665</td>\n",
       "      <td>423547</td>\n",
       "      <td>prior</td>\n",
       "      <td>...</td>\n",
       "      <td>Regularly busy</td>\n",
       "      <td>Regularly busy days</td>\n",
       "      <td>Most_orders</td>\n",
       "      <td>8</td>\n",
       "      <td>New customer</td>\n",
       "      <td>7.988889</td>\n",
       "      <td>Low spender</td>\n",
       "      <td>19.0</td>\n",
       "      <td>Regular customer</td>\n",
       "      <td>both</td>\n",
       "    </tr>\n",
       "    <tr>\n",
       "      <th>4</th>\n",
       "      <td>26711</td>\n",
       "      <td>Female</td>\n",
       "      <td>Missouri</td>\n",
       "      <td>48</td>\n",
       "      <td>1/1/2017</td>\n",
       "      <td>3</td>\n",
       "      <td>married</td>\n",
       "      <td>165665</td>\n",
       "      <td>2524893</td>\n",
       "      <td>prior</td>\n",
       "      <td>...</td>\n",
       "      <td>Regularly busy</td>\n",
       "      <td>Least busy days</td>\n",
       "      <td>Most_orders</td>\n",
       "      <td>8</td>\n",
       "      <td>New customer</td>\n",
       "      <td>7.988889</td>\n",
       "      <td>Low spender</td>\n",
       "      <td>19.0</td>\n",
       "      <td>Regular customer</td>\n",
       "      <td>both</td>\n",
       "    </tr>\n",
       "  </tbody>\n",
       "</table>\n",
       "<p>5 rows × 33 columns</p>\n",
       "</div>"
      ],
      "text/plain": [
       "   user_id  gender     state  age date_joined  n_dependants fam_status  \\\n",
       "0    26711  Female  Missouri   48    1/1/2017             3    married   \n",
       "1    26711  Female  Missouri   48    1/1/2017             3    married   \n",
       "2    26711  Female  Missouri   48    1/1/2017             3    married   \n",
       "3    26711  Female  Missouri   48    1/1/2017             3    married   \n",
       "4    26711  Female  Missouri   48    1/1/2017             3    married   \n",
       "\n",
       "   income  order_id eval_set  ...     busiest_day         Busiest days  \\\n",
       "0  165665   2543867    prior  ...  Regularly busy         Busiest days   \n",
       "1  165665   1285508    prior  ...  Regularly busy  Regularly busy days   \n",
       "2  165665   2578584    prior  ...  Regularly busy         Busiest days   \n",
       "3  165665    423547    prior  ...  Regularly busy  Regularly busy days   \n",
       "4  165665   2524893    prior  ...  Regularly busy      Least busy days   \n",
       "\n",
       "   busiest_period_of_day  max_order  loyalty_flag  average_price  \\\n",
       "0            Most_orders          8  New customer       7.988889   \n",
       "1            Most_orders          8  New customer       7.988889   \n",
       "2            Most_orders          8  New customer       7.988889   \n",
       "3            Most_orders          8  New customer       7.988889   \n",
       "4            Most_orders          8  New customer       7.988889   \n",
       "\n",
       "   spending_flag  median_prior_orders order_frequency_flag  _merge  \n",
       "0    Low spender                 19.0     Regular customer    both  \n",
       "1    Low spender                 19.0     Regular customer    both  \n",
       "2    Low spender                 19.0     Regular customer    both  \n",
       "3    Low spender                 19.0     Regular customer    both  \n",
       "4    Low spender                 19.0     Regular customer    both  \n",
       "\n",
       "[5 rows x 33 columns]"
      ]
     },
     "execution_count": 10,
     "metadata": {},
     "output_type": "execute_result"
    }
   ],
   "source": [
    "#Checking the dataframe\n",
    "df_merged_clean.head()"
   ]
  },
  {
   "cell_type": "markdown",
   "id": "ebc84677-b166-4e90-b920-3657d25c49b4",
   "metadata": {
    "tags": []
   },
   "source": [
    "# 3. Spending Habits between Regions"
   ]
  },
  {
   "cell_type": "code",
   "execution_count": 10,
   "id": "b96964d3-4e44-47d9-b178-9ba5521a6dda",
   "metadata": {
    "tags": []
   },
   "outputs": [],
   "source": [
    "#Check spending habits between regions\n",
    "spending_habits = pd.crosstab(df_merged_clean['region'], df_merged_clean['spending_flag'], dropna = False)"
   ]
  },
  {
   "cell_type": "code",
   "execution_count": 11,
   "id": "0cf60dd4-aa28-4f8e-a11f-e10beb22d201",
   "metadata": {
    "tags": []
   },
   "outputs": [
    {
     "data": {
      "text/plain": [
       "(None, Text(0.5, 1.0, 'Regional Spending Habit'))"
      ]
     },
     "execution_count": 11,
     "metadata": {},
     "output_type": "execute_result"
    },
    {
     "data": {
      "image/png": "[encoded data removed]",
      "text/plain": [
       "<Figure size 640x480 with 1 Axes>"
      ]
     },
     "metadata": {},
     "output_type": "display_data"
    }
   ],
   "source": [
    "spending_habits_viz=spending_habits.plot.bar(color=['lightblue','tab:blue'])\n",
    "plt.tight_layout(), plt.title('Regional Spending Habit')"
   ]
  },
  {
   "cell_type": "code",
   "execution_count": 12,
   "id": "c40527d5-246e-41ef-973c-42756cd2000f",
   "metadata": {
    "tags": []
   },
   "outputs": [],
   "source": [
    "# exporting the above visualization\n",
    "spending_habits_viz.figure.savefig(os.path.join(path,'04 Analysis','Visualizations','regional_spending_habits.png'))"
   ]
  },
  {
   "cell_type": "markdown",
   "id": "4dbf3138-43b8-4a21-b862-57c6a9905d7c",
   "metadata": {},
   "source": [
    "# Question 4. Creating Segmentation"
   ]
  },
  {
   "cell_type": "code",
   "execution_count": 67,
   "id": "81d77cd9-ea88-4ce9-b304-c199b968dd96",
   "metadata": {
    "tags": []
   },
   "outputs": [
    {
     "data": {
      "text/html": [
       "<div>\n",
       "<style scoped>\n",
       "    .dataframe tbody tr th:only-of-type {\n",
       "        vertical-align: middle;\n",
       "    }\n",
       "\n",
       "    .dataframe tbody tr th {\n",
       "        vertical-align: top;\n",
       "    }\n",
       "\n",
       "    .dataframe thead th {\n",
       "        text-align: right;\n",
       "    }\n",
       "</style>\n",
       "<table border=\"1\" class=\"dataframe\">\n",
       "  <thead>\n",
       "    <tr style=\"text-align: right;\">\n",
       "      <th></th>\n",
       "      <th>user_id</th>\n",
       "      <th>region</th>\n",
       "      <th>state</th>\n",
       "    </tr>\n",
       "  </thead>\n",
       "  <tbody>\n",
       "    <tr>\n",
       "      <th>0</th>\n",
       "      <td>26711</td>\n",
       "      <td>Midwest</td>\n",
       "      <td>Missouri</td>\n",
       "    </tr>\n",
       "    <tr>\n",
       "      <th>1</th>\n",
       "      <td>26711</td>\n",
       "      <td>Midwest</td>\n",
       "      <td>Missouri</td>\n",
       "    </tr>\n",
       "    <tr>\n",
       "      <th>2</th>\n",
       "      <td>26711</td>\n",
       "      <td>Midwest</td>\n",
       "      <td>Missouri</td>\n",
       "    </tr>\n",
       "    <tr>\n",
       "      <th>3</th>\n",
       "      <td>26711</td>\n",
       "      <td>Midwest</td>\n",
       "      <td>Missouri</td>\n",
       "    </tr>\n",
       "    <tr>\n",
       "      <th>4</th>\n",
       "      <td>26711</td>\n",
       "      <td>Midwest</td>\n",
       "      <td>Missouri</td>\n",
       "    </tr>\n",
       "    <tr>\n",
       "      <th>5</th>\n",
       "      <td>26711</td>\n",
       "      <td>Midwest</td>\n",
       "      <td>Missouri</td>\n",
       "    </tr>\n",
       "    <tr>\n",
       "      <th>6</th>\n",
       "      <td>26711</td>\n",
       "      <td>Midwest</td>\n",
       "      <td>Missouri</td>\n",
       "    </tr>\n",
       "    <tr>\n",
       "      <th>7</th>\n",
       "      <td>26711</td>\n",
       "      <td>Midwest</td>\n",
       "      <td>Missouri</td>\n",
       "    </tr>\n",
       "    <tr>\n",
       "      <th>8</th>\n",
       "      <td>26711</td>\n",
       "      <td>Midwest</td>\n",
       "      <td>Missouri</td>\n",
       "    </tr>\n",
       "    <tr>\n",
       "      <th>9</th>\n",
       "      <td>26711</td>\n",
       "      <td>Midwest</td>\n",
       "      <td>Missouri</td>\n",
       "    </tr>\n",
       "    <tr>\n",
       "      <th>10</th>\n",
       "      <td>26711</td>\n",
       "      <td>Midwest</td>\n",
       "      <td>Missouri</td>\n",
       "    </tr>\n",
       "    <tr>\n",
       "      <th>11</th>\n",
       "      <td>26711</td>\n",
       "      <td>Midwest</td>\n",
       "      <td>Missouri</td>\n",
       "    </tr>\n",
       "    <tr>\n",
       "      <th>12</th>\n",
       "      <td>26711</td>\n",
       "      <td>Midwest</td>\n",
       "      <td>Missouri</td>\n",
       "    </tr>\n",
       "    <tr>\n",
       "      <th>13</th>\n",
       "      <td>26711</td>\n",
       "      <td>Midwest</td>\n",
       "      <td>Missouri</td>\n",
       "    </tr>\n",
       "    <tr>\n",
       "      <th>14</th>\n",
       "      <td>26711</td>\n",
       "      <td>Midwest</td>\n",
       "      <td>Missouri</td>\n",
       "    </tr>\n",
       "    <tr>\n",
       "      <th>15</th>\n",
       "      <td>26711</td>\n",
       "      <td>Midwest</td>\n",
       "      <td>Missouri</td>\n",
       "    </tr>\n",
       "    <tr>\n",
       "      <th>16</th>\n",
       "      <td>26711</td>\n",
       "      <td>Midwest</td>\n",
       "      <td>Missouri</td>\n",
       "    </tr>\n",
       "    <tr>\n",
       "      <th>17</th>\n",
       "      <td>26711</td>\n",
       "      <td>Midwest</td>\n",
       "      <td>Missouri</td>\n",
       "    </tr>\n",
       "    <tr>\n",
       "      <th>18</th>\n",
       "      <td>33890</td>\n",
       "      <td>West</td>\n",
       "      <td>New Mexico</td>\n",
       "    </tr>\n",
       "    <tr>\n",
       "      <th>19</th>\n",
       "      <td>33890</td>\n",
       "      <td>West</td>\n",
       "      <td>New Mexico</td>\n",
       "    </tr>\n",
       "  </tbody>\n",
       "</table>\n",
       "</div>"
      ],
      "text/plain": [
       "    user_id   region       state\n",
       "0     26711  Midwest    Missouri\n",
       "1     26711  Midwest    Missouri\n",
       "2     26711  Midwest    Missouri\n",
       "3     26711  Midwest    Missouri\n",
       "4     26711  Midwest    Missouri\n",
       "5     26711  Midwest    Missouri\n",
       "6     26711  Midwest    Missouri\n",
       "7     26711  Midwest    Missouri\n",
       "8     26711  Midwest    Missouri\n",
       "9     26711  Midwest    Missouri\n",
       "10    26711  Midwest    Missouri\n",
       "11    26711  Midwest    Missouri\n",
       "12    26711  Midwest    Missouri\n",
       "13    26711  Midwest    Missouri\n",
       "14    26711  Midwest    Missouri\n",
       "15    26711  Midwest    Missouri\n",
       "16    26711  Midwest    Missouri\n",
       "17    26711  Midwest    Missouri\n",
       "18    33890     West  New Mexico\n",
       "19    33890     West  New Mexico"
      ]
     },
     "execution_count": 67,
     "metadata": {},
     "output_type": "execute_result"
    }
   ],
   "source": [
    "# Checking new column.\n",
    "df_merged_clean[['user_id', 'region', 'state']].head(20)"
   ]
  },
  {
   "cell_type": "code",
   "execution_count": 1,
   "id": "3adaf8b8-05b9-4157-8214-5725ca87e03c",
   "metadata": {
    "tags": []
   },
   "outputs": [],
   "source": [
    "#Defining Regions\n",
    "Northeast = ['Maine', 'New Hampshire', 'Vermont', 'Massachusetts', 'Rhode Island', 'Connecticut', 'New York', 'Pennsylvania', 'New Jersey']\n",
    "Midwest = ['Wisconsin', 'Michigan','Illinois', 'Indiana', 'Ohio', 'North Dakota', 'South Dakota', 'Nebraska', 'Kansas', 'Minnesota', 'Iowa', 'Missouri']\n",
    "South = ['Delaware', 'Maryland', 'District of Columbia', 'West Virginia', 'North Carolina', 'South Carolina', 'Georgia', 'Florida', 'Kentucky', 'Tennessee', 'Mississippi', 'Oklahoma','Texas', 'Arkansas', 'Louisiana', 'Alabama']\n",
    "West = ['Idaho', 'Montana', 'Wyoming', 'Nevada', 'Utah', 'Colorado', 'Arizona', 'New Mexico', 'Alaska', 'Washington', 'Oregon', 'California', 'Hawaii']"
   ]
  },
  {
   "cell_type": "code",
   "execution_count": 6,
   "id": "77394425-2fa4-462a-85f3-267f77d2bb07",
   "metadata": {
    "tags": []
   },
   "outputs": [],
   "source": [
    "# Creating region column base on state column.\n",
    "df_merged_clean.loc[df_merged_clean['state'].isin (Northeast), 'region'] = 'Northeast'\n",
    "df_merged_clean.loc[df_merged_clean['state'].isin (Midwest), 'region'] = 'Midwest'\n",
    "df_merged_clean.loc[df_merged_clean['state'].isin (South), 'region'] = 'South'\n",
    "df_merged_clean.loc[df_merged_clean['state'].isin (West), 'region'] = 'West'"
   ]
  },
  {
   "cell_type": "code",
   "execution_count": 9,
   "id": "ffaaec86-c773-4f8c-8b85-9025a218193d",
   "metadata": {
    "tags": []
   },
   "outputs": [
    {
     "data": {
      "text/plain": [
       "South        10150868\n",
       "West          8293217\n",
       "Midwest       7597585\n",
       "Northeast     5722939\n",
       "Name: region, dtype: int64"
      ]
     },
     "execution_count": 9,
     "metadata": {},
     "output_type": "execute_result"
    }
   ],
   "source": [
    "df_merged_clean['region'].value_counts()"
   ]
  },
  {
   "cell_type": "code",
   "execution_count": 8,
   "id": "def5fa3c-8f0a-43bd-9bc9-ce94eb51dc87",
   "metadata": {
    "tags": []
   },
   "outputs": [
    {
     "data": {
      "text/plain": [
       "(32406041, 36)"
      ]
     },
     "execution_count": 8,
     "metadata": {},
     "output_type": "execute_result"
    }
   ],
   "source": [
    "#Check shape\n",
    "df_merged_clean.shape"
   ]
  },
  {
   "cell_type": "markdown",
   "id": "e549899d-498e-4c7d-b948-58a49035fea0",
   "metadata": {},
   "source": [
    "# Question 4. Excluding low activity customers"
   ]
  },
  {
   "cell_type": "code",
   "execution_count": 4,
   "id": "45ff8bcd-3d55-45f1-a504-2c46daddc58f",
   "metadata": {
    "tags": []
   },
   "outputs": [
    {
     "data": {
      "text/plain": [
       "(32406041, 35)"
      ]
     },
     "execution_count": 4,
     "metadata": {},
     "output_type": "execute_result"
    }
   ],
   "source": [
    "df_merged_clean.shape"
   ]
  },
  {
   "cell_type": "code",
   "execution_count": 5,
   "id": "f888e938-5095-403b-90e8-c5f188cd2857",
   "metadata": {
    "tags": []
   },
   "outputs": [],
   "source": [
    "df_merged_clean.loc[df_merged_clean['max_order'] >= 5, 'customer_activity'] = 'High_activity_customers'"
   ]
  },
  {
   "cell_type": "code",
   "execution_count": 6,
   "id": "67e754dd-1a46-4db6-99a8-e67c170c0678",
   "metadata": {
    "tags": []
   },
   "outputs": [],
   "source": [
    "#Creating flag for low activity customers\n",
    "df_merged_clean.loc[df_merged_clean['max_order']<5, 'customer_activity'] = 'Low_activity_customers'"
   ]
  },
  {
   "cell_type": "code",
   "execution_count": 7,
   "id": "9ba0fa59-e7a8-449a-b026-2195e1b1e550",
   "metadata": {
    "tags": []
   },
   "outputs": [
    {
     "data": {
      "text/plain": [
       "High_activity_customers    30965686\n",
       "Low_activity_customers      1440355\n",
       "Name: customer_activity, dtype: int64"
      ]
     },
     "execution_count": 7,
     "metadata": {},
     "output_type": "execute_result"
    }
   ],
   "source": [
    "#Checking value counts of customer_activity column\n",
    "df_merged_clean['customer_activity'].value_counts(dropna= False)"
   ]
  },
  {
   "cell_type": "code",
   "execution_count": 12,
   "id": "0eeae44d-ed41-4ad2-9c7d-e590efdaa10b",
   "metadata": {
    "tags": []
   },
   "outputs": [],
   "source": [
    "# Creating a Subset of low active customers._\n",
    "low_active_customers = df_new[df_new['customer_activity'] == 'Low_activity_customers']"
   ]
  },
  {
   "cell_type": "code",
   "execution_count": 18,
   "id": "02962cce-ac5a-4027-926a-f8e7e02def85",
   "metadata": {
    "tags": []
   },
   "outputs": [
    {
     "data": {
      "text/html": [
       "<div>\n",
       "<style scoped>\n",
       "    .dataframe tbody tr th:only-of-type {\n",
       "        vertical-align: middle;\n",
       "    }\n",
       "\n",
       "    .dataframe tbody tr th {\n",
       "        vertical-align: top;\n",
       "    }\n",
       "\n",
       "    .dataframe thead th {\n",
       "        text-align: right;\n",
       "    }\n",
       "</style>\n",
       "<table border=\"1\" class=\"dataframe\">\n",
       "  <thead>\n",
       "    <tr style=\"text-align: right;\">\n",
       "      <th></th>\n",
       "      <th>user_id</th>\n",
       "      <th>first_name</th>\n",
       "      <th>last_name</th>\n",
       "      <th>gender</th>\n",
       "      <th>state</th>\n",
       "      <th>age</th>\n",
       "      <th>date_joined</th>\n",
       "      <th>n_dependants</th>\n",
       "      <th>fam_status</th>\n",
       "      <th>income</th>\n",
       "      <th>...</th>\n",
       "      <th>busiest_period_of_day</th>\n",
       "      <th>max_order</th>\n",
       "      <th>loyalty_flag</th>\n",
       "      <th>average_price</th>\n",
       "      <th>spending_flag</th>\n",
       "      <th>median_prior_orders</th>\n",
       "      <th>order_frequency_flag</th>\n",
       "      <th>_merge</th>\n",
       "      <th>region</th>\n",
       "      <th>customer_activity</th>\n",
       "    </tr>\n",
       "  </thead>\n",
       "  <tbody>\n",
       "    <tr>\n",
       "      <th>729</th>\n",
       "      <td>168851</td>\n",
       "      <td>Joseph</td>\n",
       "      <td>Hickman</td>\n",
       "      <td>Male</td>\n",
       "      <td>South Carolina</td>\n",
       "      <td>30</td>\n",
       "      <td>1/1/2017</td>\n",
       "      <td>0</td>\n",
       "      <td>single</td>\n",
       "      <td>63712</td>\n",
       "      <td>...</td>\n",
       "      <td>Average_orders</td>\n",
       "      <td>3</td>\n",
       "      <td>New customer</td>\n",
       "      <td>7.485714</td>\n",
       "      <td>Low spender</td>\n",
       "      <td>20.5</td>\n",
       "      <td>Non-frequent customer</td>\n",
       "      <td>both</td>\n",
       "      <td>South</td>\n",
       "      <td>Low_activity_customers</td>\n",
       "    </tr>\n",
       "    <tr>\n",
       "      <th>730</th>\n",
       "      <td>168851</td>\n",
       "      <td>Joseph</td>\n",
       "      <td>Hickman</td>\n",
       "      <td>Male</td>\n",
       "      <td>South Carolina</td>\n",
       "      <td>30</td>\n",
       "      <td>1/1/2017</td>\n",
       "      <td>0</td>\n",
       "      <td>single</td>\n",
       "      <td>63712</td>\n",
       "      <td>...</td>\n",
       "      <td>Most_orders</td>\n",
       "      <td>3</td>\n",
       "      <td>New customer</td>\n",
       "      <td>7.485714</td>\n",
       "      <td>Low spender</td>\n",
       "      <td>20.5</td>\n",
       "      <td>Non-frequent customer</td>\n",
       "      <td>both</td>\n",
       "      <td>South</td>\n",
       "      <td>Low_activity_customers</td>\n",
       "    </tr>\n",
       "    <tr>\n",
       "      <th>731</th>\n",
       "      <td>168851</td>\n",
       "      <td>Joseph</td>\n",
       "      <td>Hickman</td>\n",
       "      <td>Male</td>\n",
       "      <td>South Carolina</td>\n",
       "      <td>30</td>\n",
       "      <td>1/1/2017</td>\n",
       "      <td>0</td>\n",
       "      <td>single</td>\n",
       "      <td>63712</td>\n",
       "      <td>...</td>\n",
       "      <td>Average_orders</td>\n",
       "      <td>3</td>\n",
       "      <td>New customer</td>\n",
       "      <td>7.485714</td>\n",
       "      <td>Low spender</td>\n",
       "      <td>20.5</td>\n",
       "      <td>Non-frequent customer</td>\n",
       "      <td>both</td>\n",
       "      <td>South</td>\n",
       "      <td>Low_activity_customers</td>\n",
       "    </tr>\n",
       "    <tr>\n",
       "      <th>732</th>\n",
       "      <td>168851</td>\n",
       "      <td>Joseph</td>\n",
       "      <td>Hickman</td>\n",
       "      <td>Male</td>\n",
       "      <td>South Carolina</td>\n",
       "      <td>30</td>\n",
       "      <td>1/1/2017</td>\n",
       "      <td>0</td>\n",
       "      <td>single</td>\n",
       "      <td>63712</td>\n",
       "      <td>...</td>\n",
       "      <td>Average_orders</td>\n",
       "      <td>3</td>\n",
       "      <td>New customer</td>\n",
       "      <td>7.485714</td>\n",
       "      <td>Low spender</td>\n",
       "      <td>20.5</td>\n",
       "      <td>Non-frequent customer</td>\n",
       "      <td>both</td>\n",
       "      <td>South</td>\n",
       "      <td>Low_activity_customers</td>\n",
       "    </tr>\n",
       "    <tr>\n",
       "      <th>733</th>\n",
       "      <td>168851</td>\n",
       "      <td>Joseph</td>\n",
       "      <td>Hickman</td>\n",
       "      <td>Male</td>\n",
       "      <td>South Carolina</td>\n",
       "      <td>30</td>\n",
       "      <td>1/1/2017</td>\n",
       "      <td>0</td>\n",
       "      <td>single</td>\n",
       "      <td>63712</td>\n",
       "      <td>...</td>\n",
       "      <td>Most_orders</td>\n",
       "      <td>3</td>\n",
       "      <td>New customer</td>\n",
       "      <td>7.485714</td>\n",
       "      <td>Low spender</td>\n",
       "      <td>20.5</td>\n",
       "      <td>Non-frequent customer</td>\n",
       "      <td>both</td>\n",
       "      <td>South</td>\n",
       "      <td>Low_activity_customers</td>\n",
       "    </tr>\n",
       "  </tbody>\n",
       "</table>\n",
       "<p>5 rows × 37 columns</p>\n",
       "</div>"
      ],
      "text/plain": [
       "     user_id first_name last_name gender           state  age date_joined  \\\n",
       "729   168851     Joseph   Hickman   Male  South Carolina   30    1/1/2017   \n",
       "730   168851     Joseph   Hickman   Male  South Carolina   30    1/1/2017   \n",
       "731   168851     Joseph   Hickman   Male  South Carolina   30    1/1/2017   \n",
       "732   168851     Joseph   Hickman   Male  South Carolina   30    1/1/2017   \n",
       "733   168851     Joseph   Hickman   Male  South Carolina   30    1/1/2017   \n",
       "\n",
       "     n_dependants fam_status  income  ...  busiest_period_of_day max_order  \\\n",
       "729             0     single   63712  ...         Average_orders         3   \n",
       "730             0     single   63712  ...            Most_orders         3   \n",
       "731             0     single   63712  ...         Average_orders         3   \n",
       "732             0     single   63712  ...         Average_orders         3   \n",
       "733             0     single   63712  ...            Most_orders         3   \n",
       "\n",
       "     loyalty_flag  average_price  spending_flag  median_prior_orders  \\\n",
       "729  New customer       7.485714    Low spender                 20.5   \n",
       "730  New customer       7.485714    Low spender                 20.5   \n",
       "731  New customer       7.485714    Low spender                 20.5   \n",
       "732  New customer       7.485714    Low spender                 20.5   \n",
       "733  New customer       7.485714    Low spender                 20.5   \n",
       "\n",
       "      order_frequency_flag  _merge  region       customer_activity  \n",
       "729  Non-frequent customer    both   South  Low_activity_customers  \n",
       "730  Non-frequent customer    both   South  Low_activity_customers  \n",
       "731  Non-frequent customer    both   South  Low_activity_customers  \n",
       "732  Non-frequent customer    both   South  Low_activity_customers  \n",
       "733  Non-frequent customer    both   South  Low_activity_customers  \n",
       "\n",
       "[5 rows x 37 columns]"
      ]
     },
     "execution_count": 18,
     "metadata": {},
     "output_type": "execute_result"
    }
   ],
   "source": [
    "low_active_customers.head()"
   ]
  },
  {
   "cell_type": "code",
   "execution_count": 19,
   "id": "28478fb5-c71e-42ac-8670-dc04470b1b39",
   "metadata": {
    "tags": []
   },
   "outputs": [
    {
     "data": {
      "text/plain": [
       "(1440355, 37)"
      ]
     },
     "execution_count": 19,
     "metadata": {},
     "output_type": "execute_result"
    }
   ],
   "source": [
    "low_active_customers.shape"
   ]
  },
  {
   "cell_type": "code",
   "execution_count": 20,
   "id": "2223ebb5-e226-4bd0-b233-90823e1df83d",
   "metadata": {
    "tags": []
   },
   "outputs": [],
   "source": [
    "# exporting the Low-activity customers subset\n",
    "low_active_customers.to_pickle(os.path.join(path,'02 Data','Prepared Data','Low_activity_customers.pkl'))"
   ]
  },
  {
   "cell_type": "code",
   "execution_count": 21,
   "id": "3adef49a-c5e2-4b78-9ecb-e2ca4281f3a0",
   "metadata": {
    "tags": []
   },
   "outputs": [],
   "source": [
    "# creating a subset for the High-activity customers\n",
    "high_active_customers=df_merged_clean[df_merged_clean['customer_activity']=='High_activity_customers']"
   ]
  },
  {
   "cell_type": "code",
   "execution_count": 22,
   "id": "362f813e-44a9-4650-a515-b1349d79d23a",
   "metadata": {
    "tags": []
   },
   "outputs": [
    {
     "data": {
      "text/plain": [
       "(30965686, 37)"
      ]
     },
     "execution_count": 22,
     "metadata": {},
     "output_type": "execute_result"
    }
   ],
   "source": [
    "#Checking shape\n",
    "high_active_customers.shape"
   ]
  },
  {
   "cell_type": "code",
   "execution_count": 23,
   "id": "330f1258-4a07-4bca-928a-f7e53ebe05e9",
   "metadata": {
    "tags": []
   },
   "outputs": [],
   "source": [
    "# Exporting 'high_active_customers' dataframe\n",
    "high_active_customers.to_pickle(os.path.join(path, '02 Data', 'Prepared Data', 'High_active_customers.pkl'))"
   ]
  },
  {
   "cell_type": "markdown",
   "id": "f2e7d475-169c-4598-b914-328bab333549",
   "metadata": {
    "tags": []
   },
   "source": [
    "# Question 5. The marketing and business strategy units at Instacart want to create more-relevant marketing strategies for different products and are, thus, curious about customer profiling in their database. Create a profiling variable based on age, income, certain goods in the “department_id” column, and number of dependents. You might also use the “orders_day_of_the_week” and “order_hour_of_day” columns if you can think of a way they would impact customer profiles. (Hint: As an example, try thinking of what characteristics would lead you to the profile “Single adult” or “Young parent.”)"
   ]
  },
  {
   "cell_type": "code",
   "execution_count": 4,
   "id": "8781cfc1-53fa-4940-9364-14e368f6e10a",
   "metadata": {
    "tags": []
   },
   "outputs": [],
   "source": [
    "# Contuning the analysis with new 'high_active_customers' Dataframe.\n",
    "df_new = pd.read_pickle(os.path.join(path, '02 Data', 'Prepared Data', 'High_active_customers.pkl'))"
   ]
  },
  {
   "cell_type": "code",
   "execution_count": 25,
   "id": "661caea8-6afc-4e68-8814-a666840cd395",
   "metadata": {
    "tags": []
   },
   "outputs": [
    {
     "data": {
      "text/plain": [
       "count    3.096569e+07\n",
       "mean     4.946800e+01\n",
       "std      1.848526e+01\n",
       "min      1.800000e+01\n",
       "25%      3.300000e+01\n",
       "50%      4.900000e+01\n",
       "75%      6.500000e+01\n",
       "max      8.100000e+01\n",
       "Name: age, dtype: float64"
      ]
     },
     "execution_count": 25,
     "metadata": {},
     "output_type": "execute_result"
    }
   ],
   "source": [
    "#Checking frequency of age column\n",
    "df_new['age'].describe()"
   ]
  },
  {
   "cell_type": "code",
   "execution_count": 38,
   "id": "7a8ba169-f496-4baf-b9ab-5bb4a27b4e87",
   "metadata": {
    "tags": []
   },
   "outputs": [],
   "source": [
    "#Creating a new column for age category \n",
    "df_new.loc[(df_new['age'] >35) & (df_new['age'] <60), 'age_category'] = 'Middle Age'"
   ]
  },
  {
   "cell_type": "code",
   "execution_count": 39,
   "id": "73218f6a-757e-49f4-82a4-769c87840c70",
   "metadata": {
    "tags": []
   },
   "outputs": [],
   "source": [
    "#Creating 'Senior Citizens' column\n",
    "df_new.loc[df_new['age']>60, 'age_category'] = 'Senior Citizens'"
   ]
  },
  {
   "cell_type": "code",
   "execution_count": 40,
   "id": "3fcdbd37-9658-4c7e-abc9-e3e0f3942517",
   "metadata": {
    "tags": []
   },
   "outputs": [],
   "source": [
    "#Creating 'Young Age' column\n",
    "df_new.loc[df_new['age'] <=35, 'age_category'] = 'Young Age'"
   ]
  },
  {
   "cell_type": "code",
   "execution_count": 37,
   "id": "2c329b68-ead5-4f84-800b-39450b4a4078",
   "metadata": {
    "tags": []
   },
   "outputs": [
    {
     "data": {
      "text/plain": [
       "Middle Age         11651716\n",
       "Senior Citizens    10112938\n",
       "Young Age           8739122\n",
       "NaN                  461910\n",
       "Name: age_category, dtype: int64"
      ]
     },
     "execution_count": 37,
     "metadata": {},
     "output_type": "execute_result"
    }
   ],
   "source": [
    "df_new['age_category'].value_counts(dropna=False)"
   ]
  },
  {
   "cell_type": "code",
   "execution_count": 30,
   "id": "869194cf-e0aa-40eb-8ef5-65726982e61a",
   "metadata": {
    "tags": []
   },
   "outputs": [
    {
     "data": {
      "text/plain": [
       "(30965686, 38)"
      ]
     },
     "execution_count": 30,
     "metadata": {},
     "output_type": "execute_result"
    }
   ],
   "source": [
    "df_new.shape"
   ]
  },
  {
   "cell_type": "code",
   "execution_count": 38,
   "id": "76889786-1c4f-483c-b643-0bf0931cd70f",
   "metadata": {
    "tags": []
   },
   "outputs": [
    {
     "data": {
      "image/png": "[encoded data removed]",
      "text/plain": [
       "<Figure size 640x480 with 1 Axes>"
      ]
     },
     "metadata": {},
     "output_type": "display_data"
    }
   ],
   "source": [
    "# creating a visualization\n",
    "age_grp_bar=df_new['age_category'].value_counts().plot.bar(title='Frequency of Age Groups'), plt.tight_layout()"
   ]
  },
  {
   "cell_type": "code",
   "execution_count": 39,
   "id": "ad9b437d-cc45-44ed-9b24-1eebc138e5cc",
   "metadata": {
    "tags": []
   },
   "outputs": [
    {
     "data": {
      "text/plain": [
       "(None, None)"
      ]
     },
     "execution_count": 39,
     "metadata": {},
     "output_type": "execute_result"
    },
    {
     "data": {
      "text/plain": [
       "<Figure size 640x480 with 0 Axes>"
      ]
     },
     "metadata": {},
     "output_type": "display_data"
    }
   ],
   "source": [
    "# exporting the visualization\n",
    "plt.savefig(os.path.join(path,'04 Analysis', 'Visualizations', 'frequency_of_age_groups.png')), plt.tight_layout()"
   ]
  },
  {
   "cell_type": "code",
   "execution_count": 95,
   "id": "d40666a6-b990-41bb-a4ca-9573e9309af5",
   "metadata": {
    "tags": []
   },
   "outputs": [
    {
     "data": {
      "image/png": "[encoded data removed]",
      "text/plain": [
       "<Figure size 640x480 with 1 Axes>"
      ]
     },
     "metadata": {},
     "output_type": "display_data"
    }
   ],
   "source": [
    "# Create a bar chart from the \"loyalty_flag\" column\n",
    "\n",
    "bar_loyalty = df_merged_clean['loyalty_flag'].value_counts().plot.bar(title = 'Customer Counts by Loyalty Status' ), plt.tight_layout()"
   ]
  },
  {
   "cell_type": "code",
   "execution_count": 100,
   "id": "595ae34c-6079-4102-9160-c987449157fd",
   "metadata": {
    "tags": []
   },
   "outputs": [
    {
     "data": {
      "text/plain": [
       "(None, None)"
      ]
     },
     "execution_count": 100,
     "metadata": {},
     "output_type": "execute_result"
    },
    {
     "data": {
      "text/plain": [
       "<Figure size 640x480 with 0 Axes>"
      ]
     },
     "metadata": {},
     "output_type": "display_data"
    }
   ],
   "source": [
    "#Exporting bar_loyalty chart\n",
    "plt.savefig(os.path.join(path,'04 Analysis', 'Visualizations', 'bar_loyalty.png')), plt.tight_layout()"
   ]
  },
  {
   "cell_type": "markdown",
   "id": "fc624a35-d726-46ed-bf6d-dfe3876800f6",
   "metadata": {
    "tags": []
   },
   "source": [
    "## Income of Customers"
   ]
  },
  {
   "cell_type": "code",
   "execution_count": 32,
   "id": "ef2b1cd4-5abb-4556-a6d7-efe5ab173e28",
   "metadata": {
    "tags": []
   },
   "outputs": [
    {
     "data": {
      "text/plain": [
       "count    3.096569e+07\n",
       "mean     9.967573e+04\n",
       "std      4.314168e+04\n",
       "min      2.590300e+04\n",
       "25%      6.729200e+04\n",
       "50%      9.676500e+04\n",
       "75%      1.281020e+05\n",
       "max      5.939010e+05\n",
       "Name: income, dtype: float64"
      ]
     },
     "execution_count": 32,
     "metadata": {},
     "output_type": "execute_result"
    }
   ],
   "source": [
    "#Check frequency of 'income' column\n",
    "df_new['income'].describe()"
   ]
  },
  {
   "cell_type": "code",
   "execution_count": 34,
   "id": "fdc26b01-6eb1-46c1-993d-931e21a80b82",
   "metadata": {
    "tags": []
   },
   "outputs": [
    {
     "data": {
      "text/html": [
       "<div>\n",
       "<style scoped>\n",
       "    .dataframe tbody tr th:only-of-type {\n",
       "        vertical-align: middle;\n",
       "    }\n",
       "\n",
       "    .dataframe tbody tr th {\n",
       "        vertical-align: top;\n",
       "    }\n",
       "\n",
       "    .dataframe thead th {\n",
       "        text-align: right;\n",
       "    }\n",
       "</style>\n",
       "<table border=\"1\" class=\"dataframe\">\n",
       "  <thead>\n",
       "    <tr style=\"text-align: right;\">\n",
       "      <th></th>\n",
       "      <th>user_id</th>\n",
       "      <th>first_name</th>\n",
       "      <th>last_name</th>\n",
       "      <th>gender</th>\n",
       "      <th>state</th>\n",
       "      <th>age</th>\n",
       "      <th>date_joined</th>\n",
       "      <th>n_dependants</th>\n",
       "      <th>fam_status</th>\n",
       "      <th>income</th>\n",
       "      <th>...</th>\n",
       "      <th>max_order</th>\n",
       "      <th>loyalty_flag</th>\n",
       "      <th>average_price</th>\n",
       "      <th>spending_flag</th>\n",
       "      <th>median_prior_orders</th>\n",
       "      <th>order_frequency_flag</th>\n",
       "      <th>_merge</th>\n",
       "      <th>region</th>\n",
       "      <th>customer_activity</th>\n",
       "      <th>age_category</th>\n",
       "    </tr>\n",
       "  </thead>\n",
       "  <tbody>\n",
       "    <tr>\n",
       "      <th>0</th>\n",
       "      <td>26711</td>\n",
       "      <td>Deborah</td>\n",
       "      <td>Esquivel</td>\n",
       "      <td>Female</td>\n",
       "      <td>Missouri</td>\n",
       "      <td>48</td>\n",
       "      <td>1/1/2017</td>\n",
       "      <td>3</td>\n",
       "      <td>married</td>\n",
       "      <td>165665</td>\n",
       "      <td>...</td>\n",
       "      <td>8</td>\n",
       "      <td>New customer</td>\n",
       "      <td>7.988889</td>\n",
       "      <td>Low spender</td>\n",
       "      <td>19.0</td>\n",
       "      <td>Regular customer</td>\n",
       "      <td>both</td>\n",
       "      <td>Midwest</td>\n",
       "      <td>High_activity_customers</td>\n",
       "      <td>Middle Age</td>\n",
       "    </tr>\n",
       "    <tr>\n",
       "      <th>1</th>\n",
       "      <td>26711</td>\n",
       "      <td>Deborah</td>\n",
       "      <td>Esquivel</td>\n",
       "      <td>Female</td>\n",
       "      <td>Missouri</td>\n",
       "      <td>48</td>\n",
       "      <td>1/1/2017</td>\n",
       "      <td>3</td>\n",
       "      <td>married</td>\n",
       "      <td>165665</td>\n",
       "      <td>...</td>\n",
       "      <td>8</td>\n",
       "      <td>New customer</td>\n",
       "      <td>7.988889</td>\n",
       "      <td>Low spender</td>\n",
       "      <td>19.0</td>\n",
       "      <td>Regular customer</td>\n",
       "      <td>both</td>\n",
       "      <td>Midwest</td>\n",
       "      <td>High_activity_customers</td>\n",
       "      <td>Middle Age</td>\n",
       "    </tr>\n",
       "    <tr>\n",
       "      <th>2</th>\n",
       "      <td>26711</td>\n",
       "      <td>Deborah</td>\n",
       "      <td>Esquivel</td>\n",
       "      <td>Female</td>\n",
       "      <td>Missouri</td>\n",
       "      <td>48</td>\n",
       "      <td>1/1/2017</td>\n",
       "      <td>3</td>\n",
       "      <td>married</td>\n",
       "      <td>165665</td>\n",
       "      <td>...</td>\n",
       "      <td>8</td>\n",
       "      <td>New customer</td>\n",
       "      <td>7.988889</td>\n",
       "      <td>Low spender</td>\n",
       "      <td>19.0</td>\n",
       "      <td>Regular customer</td>\n",
       "      <td>both</td>\n",
       "      <td>Midwest</td>\n",
       "      <td>High_activity_customers</td>\n",
       "      <td>Middle Age</td>\n",
       "    </tr>\n",
       "    <tr>\n",
       "      <th>3</th>\n",
       "      <td>26711</td>\n",
       "      <td>Deborah</td>\n",
       "      <td>Esquivel</td>\n",
       "      <td>Female</td>\n",
       "      <td>Missouri</td>\n",
       "      <td>48</td>\n",
       "      <td>1/1/2017</td>\n",
       "      <td>3</td>\n",
       "      <td>married</td>\n",
       "      <td>165665</td>\n",
       "      <td>...</td>\n",
       "      <td>8</td>\n",
       "      <td>New customer</td>\n",
       "      <td>7.988889</td>\n",
       "      <td>Low spender</td>\n",
       "      <td>19.0</td>\n",
       "      <td>Regular customer</td>\n",
       "      <td>both</td>\n",
       "      <td>Midwest</td>\n",
       "      <td>High_activity_customers</td>\n",
       "      <td>Middle Age</td>\n",
       "    </tr>\n",
       "    <tr>\n",
       "      <th>4</th>\n",
       "      <td>26711</td>\n",
       "      <td>Deborah</td>\n",
       "      <td>Esquivel</td>\n",
       "      <td>Female</td>\n",
       "      <td>Missouri</td>\n",
       "      <td>48</td>\n",
       "      <td>1/1/2017</td>\n",
       "      <td>3</td>\n",
       "      <td>married</td>\n",
       "      <td>165665</td>\n",
       "      <td>...</td>\n",
       "      <td>8</td>\n",
       "      <td>New customer</td>\n",
       "      <td>7.988889</td>\n",
       "      <td>Low spender</td>\n",
       "      <td>19.0</td>\n",
       "      <td>Regular customer</td>\n",
       "      <td>both</td>\n",
       "      <td>Midwest</td>\n",
       "      <td>High_activity_customers</td>\n",
       "      <td>Middle Age</td>\n",
       "    </tr>\n",
       "  </tbody>\n",
       "</table>\n",
       "<p>5 rows × 38 columns</p>\n",
       "</div>"
      ],
      "text/plain": [
       "   user_id first_name last_name  gender     state  age date_joined  \\\n",
       "0    26711    Deborah  Esquivel  Female  Missouri   48    1/1/2017   \n",
       "1    26711    Deborah  Esquivel  Female  Missouri   48    1/1/2017   \n",
       "2    26711    Deborah  Esquivel  Female  Missouri   48    1/1/2017   \n",
       "3    26711    Deborah  Esquivel  Female  Missouri   48    1/1/2017   \n",
       "4    26711    Deborah  Esquivel  Female  Missouri   48    1/1/2017   \n",
       "\n",
       "   n_dependants fam_status  income  ...  max_order  loyalty_flag  \\\n",
       "0             3    married  165665  ...          8  New customer   \n",
       "1             3    married  165665  ...          8  New customer   \n",
       "2             3    married  165665  ...          8  New customer   \n",
       "3             3    married  165665  ...          8  New customer   \n",
       "4             3    married  165665  ...          8  New customer   \n",
       "\n",
       "   average_price  spending_flag  median_prior_orders  order_frequency_flag  \\\n",
       "0       7.988889    Low spender                 19.0      Regular customer   \n",
       "1       7.988889    Low spender                 19.0      Regular customer   \n",
       "2       7.988889    Low spender                 19.0      Regular customer   \n",
       "3       7.988889    Low spender                 19.0      Regular customer   \n",
       "4       7.988889    Low spender                 19.0      Regular customer   \n",
       "\n",
       "   _merge   region        customer_activity  age_category  \n",
       "0    both  Midwest  High_activity_customers    Middle Age  \n",
       "1    both  Midwest  High_activity_customers    Middle Age  \n",
       "2    both  Midwest  High_activity_customers    Middle Age  \n",
       "3    both  Midwest  High_activity_customers    Middle Age  \n",
       "4    both  Midwest  High_activity_customers    Middle Age  \n",
       "\n",
       "[5 rows x 38 columns]"
      ]
     },
     "execution_count": 34,
     "metadata": {},
     "output_type": "execute_result"
    }
   ],
   "source": [
    "#Check\n",
    "df_new.head()"
   ]
  },
  {
   "cell_type": "code",
   "execution_count": 36,
   "id": "4250b23a-5dc6-48f9-a82b-dc21e86b84cd",
   "metadata": {
    "tags": []
   },
   "outputs": [],
   "source": [
    "# Creating 'Low Income' column\n",
    "df_new.loc[(df_new['income'] >=25900) & (df_new['income'] <75000), 'income_groups'] = 'Low Income'\n",
    "df_new.loc[(df_new['income'] >=75000) & (df_new['income'] <150000), 'income_groups'] = 'Medium Income'\n",
    "df_new.loc[(df_new['income'] > 150000), 'income_groups'] = 'High Income'"
   ]
  },
  {
   "cell_type": "code",
   "execution_count": 20,
   "id": "3dbfe515-d91b-4361-a057-eb28ca975b9d",
   "metadata": {
    "tags": []
   },
   "outputs": [
    {
     "data": {
      "text/plain": [
       "Medium Income    17163226\n",
       "Low Income        9907061\n",
       "High Income       3894658\n",
       "NaN                   741\n",
       "Name: income_groups, dtype: int64"
      ]
     },
     "execution_count": 20,
     "metadata": {},
     "output_type": "execute_result"
    }
   ],
   "source": [
    "#Checking result\n",
    "df_new['income_groups'].value_counts(dropna=False)"
   ]
  },
  {
   "cell_type": "markdown",
   "id": "8567a58c-7c3e-478e-8355-e3fd7bbe19f0",
   "metadata": {
    "tags": []
   },
   "source": [
    "## Department"
   ]
  },
  {
   "cell_type": "code",
   "execution_count": 5,
   "id": "5b12fab1-0265-4034-9e89-1f0581e636a1",
   "metadata": {
    "tags": []
   },
   "outputs": [],
   "source": [
    "#Importing 'departments_wrangled.csv'\n",
    "df_dep = pd.read_csv(os.path.join(path, '02 Data', 'Prepared Data', 'departments_wrangled.csv'), index_col = False)"
   ]
  },
  {
   "cell_type": "code",
   "execution_count": 7,
   "id": "df1a2d7d-5d1a-444d-928d-e65752035350",
   "metadata": {
    "tags": []
   },
   "outputs": [
    {
     "data": {
      "text/html": [
       "<div>\n",
       "<style scoped>\n",
       "    .dataframe tbody tr th:only-of-type {\n",
       "        vertical-align: middle;\n",
       "    }\n",
       "\n",
       "    .dataframe tbody tr th {\n",
       "        vertical-align: top;\n",
       "    }\n",
       "\n",
       "    .dataframe thead th {\n",
       "        text-align: right;\n",
       "    }\n",
       "</style>\n",
       "<table border=\"1\" class=\"dataframe\">\n",
       "  <thead>\n",
       "    <tr style=\"text-align: right;\">\n",
       "      <th></th>\n",
       "      <th>Unnamed: 0</th>\n",
       "      <th>department</th>\n",
       "    </tr>\n",
       "  </thead>\n",
       "  <tbody>\n",
       "    <tr>\n",
       "      <th>0</th>\n",
       "      <td>1</td>\n",
       "      <td>frozen</td>\n",
       "    </tr>\n",
       "    <tr>\n",
       "      <th>1</th>\n",
       "      <td>2</td>\n",
       "      <td>other</td>\n",
       "    </tr>\n",
       "    <tr>\n",
       "      <th>2</th>\n",
       "      <td>3</td>\n",
       "      <td>bakery</td>\n",
       "    </tr>\n",
       "    <tr>\n",
       "      <th>3</th>\n",
       "      <td>4</td>\n",
       "      <td>produce</td>\n",
       "    </tr>\n",
       "    <tr>\n",
       "      <th>4</th>\n",
       "      <td>5</td>\n",
       "      <td>alcohol</td>\n",
       "    </tr>\n",
       "  </tbody>\n",
       "</table>\n",
       "</div>"
      ],
      "text/plain": [
       "   Unnamed: 0 department\n",
       "0           1     frozen\n",
       "1           2      other\n",
       "2           3     bakery\n",
       "3           4    produce\n",
       "4           5    alcohol"
      ]
     },
     "execution_count": 7,
     "metadata": {},
     "output_type": "execute_result"
    }
   ],
   "source": [
    "df_dep.head()"
   ]
  },
  {
   "cell_type": "code",
   "execution_count": 8,
   "id": "f903117e-5aa3-4942-be4c-3033bd55844e",
   "metadata": {
    "tags": []
   },
   "outputs": [
    {
     "name": "stdout",
     "output_type": "stream",
     "text": [
      "<class 'pandas.core.frame.DataFrame'>\n",
      "RangeIndex: 21 entries, 0 to 20\n",
      "Data columns (total 2 columns):\n",
      " #   Column      Non-Null Count  Dtype \n",
      "---  ------      --------------  ----- \n",
      " 0   Unnamed: 0  21 non-null     int64 \n",
      " 1   department  21 non-null     object\n",
      "dtypes: int64(1), object(1)\n",
      "memory usage: 468.0+ bytes\n"
     ]
    }
   ],
   "source": [
    "df_dep.info()"
   ]
  },
  {
   "cell_type": "code",
   "execution_count": 6,
   "id": "26bf630a-26fe-43a3-9f59-db1fc88a31dd",
   "metadata": {
    "tags": []
   },
   "outputs": [],
   "source": [
    "# Rename column.\n",
    "df_dep = df_dep.rename(columns = {'Unnamed: 0': 'department_id'})"
   ]
  },
  {
   "cell_type": "code",
   "execution_count": 8,
   "id": "de3ba558-c83b-47bc-8dc5-d4d16fb2bd48",
   "metadata": {
    "tags": []
   },
   "outputs": [
    {
     "data": {
      "text/html": [
       "<div>\n",
       "<style scoped>\n",
       "    .dataframe tbody tr th:only-of-type {\n",
       "        vertical-align: middle;\n",
       "    }\n",
       "\n",
       "    .dataframe tbody tr th {\n",
       "        vertical-align: top;\n",
       "    }\n",
       "\n",
       "    .dataframe thead th {\n",
       "        text-align: right;\n",
       "    }\n",
       "</style>\n",
       "<table border=\"1\" class=\"dataframe\">\n",
       "  <thead>\n",
       "    <tr style=\"text-align: right;\">\n",
       "      <th></th>\n",
       "      <th>department_id</th>\n",
       "      <th>department</th>\n",
       "    </tr>\n",
       "  </thead>\n",
       "  <tbody>\n",
       "    <tr>\n",
       "      <th>0</th>\n",
       "      <td>1</td>\n",
       "      <td>frozen</td>\n",
       "    </tr>\n",
       "    <tr>\n",
       "      <th>1</th>\n",
       "      <td>2</td>\n",
       "      <td>other</td>\n",
       "    </tr>\n",
       "    <tr>\n",
       "      <th>2</th>\n",
       "      <td>3</td>\n",
       "      <td>bakery</td>\n",
       "    </tr>\n",
       "    <tr>\n",
       "      <th>3</th>\n",
       "      <td>4</td>\n",
       "      <td>produce</td>\n",
       "    </tr>\n",
       "    <tr>\n",
       "      <th>4</th>\n",
       "      <td>5</td>\n",
       "      <td>alcohol</td>\n",
       "    </tr>\n",
       "    <tr>\n",
       "      <th>5</th>\n",
       "      <td>6</td>\n",
       "      <td>international</td>\n",
       "    </tr>\n",
       "    <tr>\n",
       "      <th>6</th>\n",
       "      <td>7</td>\n",
       "      <td>beverages</td>\n",
       "    </tr>\n",
       "    <tr>\n",
       "      <th>7</th>\n",
       "      <td>8</td>\n",
       "      <td>pets</td>\n",
       "    </tr>\n",
       "    <tr>\n",
       "      <th>8</th>\n",
       "      <td>9</td>\n",
       "      <td>dry goods pasta</td>\n",
       "    </tr>\n",
       "    <tr>\n",
       "      <th>9</th>\n",
       "      <td>10</td>\n",
       "      <td>bulk</td>\n",
       "    </tr>\n",
       "    <tr>\n",
       "      <th>10</th>\n",
       "      <td>11</td>\n",
       "      <td>personal care</td>\n",
       "    </tr>\n",
       "    <tr>\n",
       "      <th>11</th>\n",
       "      <td>12</td>\n",
       "      <td>meat seafood</td>\n",
       "    </tr>\n",
       "    <tr>\n",
       "      <th>12</th>\n",
       "      <td>13</td>\n",
       "      <td>pantry</td>\n",
       "    </tr>\n",
       "    <tr>\n",
       "      <th>13</th>\n",
       "      <td>14</td>\n",
       "      <td>breakfast</td>\n",
       "    </tr>\n",
       "    <tr>\n",
       "      <th>14</th>\n",
       "      <td>15</td>\n",
       "      <td>canned goods</td>\n",
       "    </tr>\n",
       "    <tr>\n",
       "      <th>15</th>\n",
       "      <td>16</td>\n",
       "      <td>dairy eggs</td>\n",
       "    </tr>\n",
       "    <tr>\n",
       "      <th>16</th>\n",
       "      <td>17</td>\n",
       "      <td>household</td>\n",
       "    </tr>\n",
       "    <tr>\n",
       "      <th>17</th>\n",
       "      <td>18</td>\n",
       "      <td>babies</td>\n",
       "    </tr>\n",
       "    <tr>\n",
       "      <th>18</th>\n",
       "      <td>19</td>\n",
       "      <td>snacks</td>\n",
       "    </tr>\n",
       "    <tr>\n",
       "      <th>19</th>\n",
       "      <td>20</td>\n",
       "      <td>deli</td>\n",
       "    </tr>\n",
       "    <tr>\n",
       "      <th>20</th>\n",
       "      <td>21</td>\n",
       "      <td>missing</td>\n",
       "    </tr>\n",
       "  </tbody>\n",
       "</table>\n",
       "</div>"
      ],
      "text/plain": [
       "    department_id       department\n",
       "0               1           frozen\n",
       "1               2            other\n",
       "2               3           bakery\n",
       "3               4          produce\n",
       "4               5          alcohol\n",
       "5               6    international\n",
       "6               7        beverages\n",
       "7               8             pets\n",
       "8               9  dry goods pasta\n",
       "9              10             bulk\n",
       "10             11    personal care\n",
       "11             12     meat seafood\n",
       "12             13           pantry\n",
       "13             14        breakfast\n",
       "14             15     canned goods\n",
       "15             16       dairy eggs\n",
       "16             17        household\n",
       "17             18           babies\n",
       "18             19           snacks\n",
       "19             20             deli\n",
       "20             21          missing"
      ]
     },
     "execution_count": 8,
     "metadata": {},
     "output_type": "execute_result"
    }
   ],
   "source": [
    "df_dep"
   ]
  },
  {
   "cell_type": "code",
   "execution_count": 12,
   "id": "7abdf3a2-b456-48f4-80ce-a7d59545d893",
   "metadata": {
    "tags": []
   },
   "outputs": [],
   "source": [
    "#Dropping 'merge' column\n",
    "df_new= df_new.drop(columns = ['_merge'])"
   ]
  },
  {
   "cell_type": "code",
   "execution_count": 12,
   "id": "b42820f0-8e4f-45c1-b1e0-ac3b18f6552a",
   "metadata": {
    "tags": []
   },
   "outputs": [],
   "source": [
    "n =  500000\n",
    "list_df = [df_dep[i:i+n] for i in range(0,len(df_dep),n)]"
   ]
  },
  {
   "cell_type": "code",
   "execution_count": 29,
   "id": "3893124d-cb97-4d32-a40d-c9a69e038aa5",
   "metadata": {
    "tags": []
   },
   "outputs": [
    {
     "data": {
      "text/plain": [
       "Index(['user_id', 'first_name', 'last_name', 'gender', 'state', 'age',\n",
       "       'date_joined', 'n_dependants', 'fam_status', 'income', 'order_id',\n",
       "       'eval_set', 'order_number', 'order_dow', 'order_hour_of_day',\n",
       "       'days_since_prior_order', 'product_id', 'add_to_cart_order',\n",
       "       'reordered', 'Unnamed: 0_y', 'product_name', 'aisle_id',\n",
       "       'department_id', 'prices', 'price_range_loc', 'busiest_day',\n",
       "       'Busiest days', 'busiest_period_of_day', 'max_order', 'loyalty_flag',\n",
       "       'average_price', 'spending_flag', 'median_prior_orders',\n",
       "       'order_frequency_flag', '_merge'],\n",
       "      dtype='object')"
      ]
     },
     "execution_count": 29,
     "metadata": {},
     "output_type": "execute_result"
    }
   ],
   "source": [
    "df_merged_clean.columns"
   ]
  },
  {
   "cell_type": "code",
   "execution_count": 30,
   "id": "c4883047-0760-45e0-9c92-7f84b7a044d4",
   "metadata": {
    "tags": []
   },
   "outputs": [
    {
     "data": {
      "text/plain": [
       "Index(['department_id', 'department'], dtype='object')"
      ]
     },
     "execution_count": 30,
     "metadata": {},
     "output_type": "execute_result"
    }
   ],
   "source": [
    "df_dep.columns"
   ]
  },
  {
   "cell_type": "code",
   "execution_count": 15,
   "id": "b95f2cd8-cd07-4a66-968c-40c7b5266e68",
   "metadata": {
    "tags": []
   },
   "outputs": [
    {
     "data": {
      "text/plain": [
       "Index(['user_id', 'first_name', 'last_name', 'gender', 'state', 'age',\n",
       "       'date_joined', 'n_dependants', 'fam_status', 'income', 'order_id',\n",
       "       'eval_set', 'order_number', 'order_dow', 'order_hour_of_day',\n",
       "       'days_since_prior_order', 'product_id', 'add_to_cart_order',\n",
       "       'reordered', 'Unnamed: 0_y', 'product_name', 'aisle_id',\n",
       "       'department_id', 'prices', 'price_range_loc', 'busiest_day',\n",
       "       'Busiest days', 'busiest_period_of_day', 'max_order', 'loyalty_flag',\n",
       "       'average_price', 'spending_flag', 'median_prior_orders',\n",
       "       'order_frequency_flag', 'region', 'customer_activity'],\n",
       "      dtype='object')"
      ]
     },
     "execution_count": 15,
     "metadata": {},
     "output_type": "execute_result"
    }
   ],
   "source": [
    "df_new.columns"
   ]
  },
  {
   "cell_type": "markdown",
   "id": "7a07582c-25f5-4c1b-81dd-d4c98fdc3b4d",
   "metadata": {
    "tags": []
   },
   "source": [
    "frames = []\n",
    "for frame in list_df:\n",
    "    df_full = frame.merge(df_dep, right_on='department_id', left_on='department', indicator=True)\n",
    "    frames.append(df_full)\n",
    "df_full = pd.concat(frames)"
   ]
  },
  {
   "cell_type": "code",
   "execution_count": 27,
   "id": "4e40136e-09e6-46b2-a5cd-fcfdfb8f1576",
   "metadata": {
    "tags": []
   },
   "outputs": [
    {
     "data": {
      "text/plain": [
       "Index(['department_id', 'department'], dtype='object')"
      ]
     },
     "execution_count": 27,
     "metadata": {},
     "output_type": "execute_result"
    }
   ],
   "source": [
    "df_dep.columns"
   ]
  },
  {
   "cell_type": "code",
   "execution_count": 7,
   "id": "0cc8f955-191e-4731-ba7d-26eaf115daf8",
   "metadata": {
    "tags": []
   },
   "outputs": [],
   "source": [
    "# merging 'df_dep' dataframe with the 'df_merged_clean' dataframe\n",
    "df_merged = df_new.merge(df_dep, on = 'department_id')"
   ]
  },
  {
   "cell_type": "markdown",
   "id": "ba8f1203-5af0-4eb9-b0ed-26f9564afd40",
   "metadata": {},
   "source": [
    "# Merging the departments dataframe with high_active_customers dataframe.\n",
    "df_merged_ = df_new.merge(df_dep, on = 'department')"
   ]
  },
  {
   "cell_type": "code",
   "execution_count": null,
   "id": "6ca43fab-f2ea-4af4-927b-52de8dd4f474",
   "metadata": {},
   "outputs": [],
   "source": [
    "# checking the merge result.\n",
    "df_merged[['user_id', 'department_id', 'department']].head()"
   ]
  },
  {
   "cell_type": "code",
   "execution_count": 34,
   "id": "f4c04803-024f-4d18-a046-f25547a83fac",
   "metadata": {
    "tags": []
   },
   "outputs": [
    {
     "data": {
      "text/plain": [
       "Index(['user_id', 'first_name', 'last_name', 'gender', 'state', 'age',\n",
       "       'date_joined', 'n_dependants', 'fam_status', 'income', 'order_id',\n",
       "       'eval_set', 'order_number', 'order_dow', 'order_hour_of_day',\n",
       "       'days_since_prior_order', 'product_id', 'add_to_cart_order',\n",
       "       'reordered', 'Unnamed: 0_y', 'product_name', 'aisle_id',\n",
       "       'department_id', 'prices', 'price_range_loc', 'busiest_day',\n",
       "       'Busiest days', 'busiest_period_of_day', 'max_order', 'loyalty_flag',\n",
       "       'average_price', 'spending_flag', 'median_prior_orders',\n",
       "       'order_frequency_flag', '_merge', 'region', 'customer_activity',\n",
       "       'department'],\n",
       "      dtype='object')"
      ]
     },
     "execution_count": 34,
     "metadata": {},
     "output_type": "execute_result"
    }
   ],
   "source": [
    "df_merged.columns"
   ]
  },
  {
   "cell_type": "markdown",
   "id": "562cd2ac-1a4c-48fc-a2eb-86de91a837bd",
   "metadata": {},
   "source": [
    "## Dependents"
   ]
  },
  {
   "cell_type": "code",
   "execution_count": 11,
   "id": "4fee6eca-cdfa-48b7-9305-a220f5612849",
   "metadata": {},
   "outputs": [
    {
     "data": {
      "text/plain": [
       "count    3.240604e+07\n",
       "mean     1.501891e+00\n",
       "std      1.118866e+00\n",
       "min      0.000000e+00\n",
       "25%      1.000000e+00\n",
       "50%      2.000000e+00\n",
       "75%      3.000000e+00\n",
       "max      3.000000e+00\n",
       "Name: n_dependants, dtype: float64"
      ]
     },
     "execution_count": 11,
     "metadata": {},
     "output_type": "execute_result"
    }
   ],
   "source": [
    "# Checking the frequency of dependents column.de\n",
    "df_merged_clean['n_dependants'].describe()"
   ]
  },
  {
   "cell_type": "code",
   "execution_count": null,
   "id": "9b1f492f-c726-419d-ac28-f47adb43325f",
   "metadata": {},
   "outputs": [],
   "source": [
    "# checking marital status column.\n",
    "df_merged_clean['fam_status'].value_counts(dropna = False)"
   ]
  },
  {
   "cell_type": "code",
   "execution_count": 19,
   "id": "5256841d-df66-4bad-8578-0fc53c91095a",
   "metadata": {},
   "outputs": [],
   "source": [
    "# Creating flag for number of dependents in a household.\n",
    "\n",
    "df_merged.loc[(df_merged['fam_status'].isin(['divorced/widowed','single','living with parents and siblings'])) & (df_merged['n_dependants'] ==0), 'customer_profile'] = 'Single adult'\n",
    "\n",
    "df_merged.loc[(df_merged['fam_status'].isin(['divorced/widowed','single','living with parents and siblings'])) & (df_merged['n_dependants'] >0), 'customer_profile'] = 'Young parent'\n",
    "\n",
    "df_merged.loc[(df_merged['fam_status']=='married') & (df_merged['n_dependants'] <=2), 'customer_profile'] = 'Family'\n",
    "\n",
    "df_merged.loc[(df_merged['fam_status']=='married') & (df_merged['n_dependants'] >2), 'customer_profile'] = 'Big Family'"
   ]
  },
  {
   "cell_type": "code",
   "execution_count": 14,
   "id": "f305e581-93a0-44f7-948e-b53e4d5cc9ff",
   "metadata": {},
   "outputs": [
    {
     "ename": "NameError",
     "evalue": "name 'df_merged' is not defined",
     "output_type": "error",
     "traceback": [
      "\u001b[1;31m---------------------------------------------------------------------------\u001b[0m",
      "\u001b[1;31mNameError\u001b[0m                                 Traceback (most recent call last)",
      "Cell \u001b[1;32mIn[14], line 2\u001b[0m\n\u001b[0;32m      1\u001b[0m \u001b[38;5;66;03m#Checking results\u001b[39;00m\n\u001b[1;32m----> 2\u001b[0m df_merged[[\u001b[38;5;124m'\u001b[39m\u001b[38;5;124mfam_status\u001b[39m\u001b[38;5;124m'\u001b[39m, \u001b[38;5;124m'\u001b[39m\u001b[38;5;124mn_dependants\u001b[39m\u001b[38;5;124m'\u001b[39m, \u001b[38;5;124m'\u001b[39m\u001b[38;5;124mcustomer_profile\u001b[39m\u001b[38;5;124m'\u001b[39m]]\u001b[38;5;241m.\u001b[39mhead()\n",
      "\u001b[1;31mNameError\u001b[0m: name 'df_merged' is not defined"
     ]
    }
   ],
   "source": [
    "#Checking results\n",
    "df_merged[['fam_status', 'n_dependants', 'customer_profile']].head()"
   ]
  },
  {
   "cell_type": "code",
   "execution_count": 49,
   "id": "e9549207-e37c-4c62-a0f2-f7c93bbc513d",
   "metadata": {
    "tags": []
   },
   "outputs": [
    {
     "data": {
      "text/plain": [
       "Family          15134612\n",
       "Single adult     8097859\n",
       "Big Family       7622929\n",
       "Young parent     1550641\n",
       "Name: customer_profile, dtype: int64"
      ]
     },
     "execution_count": 49,
     "metadata": {},
     "output_type": "execute_result"
    }
   ],
   "source": [
    "df_merged_clean['customer_profile'].value_counts(dropna=False)"
   ]
  },
  {
   "cell_type": "code",
   "execution_count": null,
   "id": "ab4d5764-65d0-4847-8a53-ca592175ee80",
   "metadata": {
    "tags": []
   },
   "outputs": [],
   "source": [
    "#Checking shape of merged column\n",
    "df_merged.shape"
   ]
  },
  {
   "cell_type": "markdown",
   "id": "b649412c-ae8d-490d-8ca1-d2f2e3426773",
   "metadata": {},
   "source": [
    "# 6. Visualizations"
   ]
  },
  {
   "cell_type": "code",
   "execution_count": 15,
   "id": "46d31296-3f4c-4bd6-9de5-073179e0a313",
   "metadata": {
    "tags": []
   },
   "outputs": [
    {
     "data": {
      "image/png": "[encoded data removed]",
      "text/plain": [
       "<Figure size 640x480 with 1 Axes>"
      ]
     },
     "metadata": {},
     "output_type": "display_data"
    }
   ],
   "source": [
    "# creating a bar chart for the 'department' column\n",
    "\n",
    "bar_dept=df_merged['department'].value_counts().plot.bar(title='Frequency of Product Orders in each Department')\n"
   ]
  },
  {
   "cell_type": "code",
   "execution_count": 16,
   "id": "e4e067ea-f2da-4f5c-a942-8627538dbb4a",
   "metadata": {
    "tags": []
   },
   "outputs": [
    {
     "data": {
      "text/plain": [
       "(None,\n",
       " <function matplotlib.pyplot.tight_layout(*, pad=1.08, h_pad=None, w_pad=None, rect=None)>)"
      ]
     },
     "execution_count": 16,
     "metadata": {},
     "output_type": "execute_result"
    }
   ],
   "source": [
    "# Exporting bar chart\n",
    "bar_dept.figure.savefig(os.path.join(path, '04 Analysis', 'Visualizations', 'bar_departments.png')), plt.tight_layout"
   ]
  },
  {
   "cell_type": "code",
   "execution_count": 40,
   "id": "8e60530d-d0d0-4cc3-b85d-cfb4c65fe68e",
   "metadata": {
    "tags": []
   },
   "outputs": [
    {
     "data": {
      "text/plain": [
       "Text(0.5, 1.0, 'Distribution of Age Groups')"
      ]
     },
     "execution_count": 40,
     "metadata": {},
     "output_type": "execute_result"
    },
    {
     "data": {
      "image/png": "[encoded data removed]",
      "text/plain": [
       "<Figure size 640x480 with 1 Axes>"
      ]
     },
     "metadata": {},
     "output_type": "display_data"
    }
   ],
   "source": [
    "# Creating bar chart for 'age_category' \n",
    "bar_age_category = df_new['age_category'].value_counts().sort_index().plot.bar()\n",
    "plt.title('Distribution of Age Groups')"
   ]
  },
  {
   "cell_type": "code",
   "execution_count": 41,
   "id": "385ec19e-e62a-4ff7-b39f-f79add4fd96d",
   "metadata": {
    "tags": []
   },
   "outputs": [
    {
     "data": {
      "text/plain": [
       "(None, None)"
      ]
     },
     "execution_count": 41,
     "metadata": {},
     "output_type": "execute_result"
    },
    {
     "data": {
      "text/plain": [
       "<Figure size 640x480 with 0 Axes>"
      ]
     },
     "metadata": {},
     "output_type": "display_data"
    }
   ],
   "source": [
    "# Exporting bar chart.\n",
    "bar_age_category.figure.savefig(os.path.join(path, '04 Analysis', 'Visualizations', 'bar_age_category.png')), plt.tight_layout()"
   ]
  },
  {
   "cell_type": "code",
   "execution_count": 138,
   "id": "961602af-8b40-44b8-b18a-91ec585f66aa",
   "metadata": {
    "tags": []
   },
   "outputs": [
    {
     "data": {
      "image/png": "[encoded data removed]",
      "text/plain": [
       "<Figure size 640x480 with 1 Axes>"
      ]
     },
     "metadata": {},
     "output_type": "display_data"
    }
   ],
   "source": [
    "#Price Range for customers\n",
    "bar_price_range = df_new['price_range_loc'].value_counts().plot.bar(title = 'Price Range Counts')"
   ]
  },
  {
   "cell_type": "code",
   "execution_count": 140,
   "id": "b31e5547-0575-4c4e-92da-e06ebdd1c280",
   "metadata": {
    "tags": []
   },
   "outputs": [
    {
     "data": {
      "text/plain": [
       "(None, None)"
      ]
     },
     "execution_count": 140,
     "metadata": {},
     "output_type": "execute_result"
    },
    {
     "data": {
      "text/plain": [
       "<Figure size 640x480 with 0 Axes>"
      ]
     },
     "metadata": {},
     "output_type": "display_data"
    }
   ],
   "source": [
    "#Export Price range bar\n",
    "bar_price_range.figure.savefig(os.path.join(path, '04 Analysis', 'Visualizations', 'price_range_counts.png')), plt.tight_layout()"
   ]
  },
  {
   "cell_type": "code",
   "execution_count": 42,
   "id": "1d6fec10-2423-4923-a176-e3cbfe770867",
   "metadata": {
    "tags": []
   },
   "outputs": [
    {
     "data": {
      "image/png": "[encoded data removed]",
      "text/plain": [
       "<Figure size 640x480 with 1 Axes>"
      ]
     },
     "metadata": {},
     "output_type": "display_data"
    }
   ],
   "source": [
    "# Visualtization of 'distribution of family profiles'\n",
    "bar_family = df_merged_clean['customer_profile'].value_counts().plot.bar(title = 'Distribution of Customer Profile'), plt.tight_layout()"
   ]
  },
  {
   "cell_type": "code",
   "execution_count": 183,
   "id": "9f3395f1-1a6d-4720-ba7a-453852a1e29b",
   "metadata": {
    "tags": []
   },
   "outputs": [
    {
     "data": {
      "image/png": "[encoded data removed]",
      "text/plain": [
       "<Figure size 640x480 with 1 Axes>"
      ]
     },
     "metadata": {},
     "output_type": "display_data"
    }
   ],
   "source": [
    "# creating a visualization of the 'income_groups' column\n",
    "income_groups_bar=df_new['income_groups'].value_counts().plot.bar(title='Frequency of the Income Groups')"
   ]
  },
  {
   "cell_type": "code",
   "execution_count": 185,
   "id": "189960b5-432e-4311-9f04-b7f7b318eb0b",
   "metadata": {
    "tags": []
   },
   "outputs": [
    {
     "data": {
      "text/plain": [
       "(None,\n",
       " <function matplotlib.pyplot.tight_layout(*, pad=1.08, h_pad=None, w_pad=None, rect=None)>)"
      ]
     },
     "execution_count": 185,
     "metadata": {},
     "output_type": "execute_result"
    }
   ],
   "source": [
    "#Export 'income_groups' column chart\n",
    "income_groups_bar.figure.savefig(os.path.join(path,'04 Analysis','Visualizations','income_groups_bar.png'),bbox_inches='tight'), plt.tight_layout"
   ]
  },
  {
   "cell_type": "code",
   "execution_count": 43,
   "id": "06778d70-0847-4c28-9eff-cd0251b9463b",
   "metadata": {
    "tags": []
   },
   "outputs": [
    {
     "data": {
      "text/plain": [
       "(None, None)"
      ]
     },
     "execution_count": 43,
     "metadata": {},
     "output_type": "execute_result"
    },
    {
     "data": {
      "text/plain": [
       "<Figure size 640x480 with 0 Axes>"
      ]
     },
     "metadata": {},
     "output_type": "display_data"
    }
   ],
   "source": [
    "#Exporting 'bar_family plot'\n",
    "plt.savefig(os.path.join(path, '04 Analysis', 'Visualizations', 'bar_family_status.png')), plt.tight_layout()"
   ]
  },
  {
   "cell_type": "code",
   "execution_count": 175,
   "id": "7acc301a-5744-45e0-965d-f386fe7b49e9",
   "metadata": {
    "tags": []
   },
   "outputs": [
    {
     "data": {
      "image/png": "[encoded data removed]",
      "text/plain": [
       "<Figure size 640x480 with 1 Axes>"
      ]
     },
     "metadata": {},
     "output_type": "display_data"
    }
   ],
   "source": [
    "# creating a visualization of the 'Family_Status_Flag'\n",
    "family_status_viz=df_merged_clean['fam_status'].value_counts().plot.barh(title='Frequency of the Family Status'), plt.tight_layout()"
   ]
  },
  {
   "cell_type": "code",
   "execution_count": 179,
   "id": "1a32dd16-9dae-4d92-ada8-704174556dfb",
   "metadata": {
    "tags": []
   },
   "outputs": [
    {
     "data": {
      "text/plain": [
       "(None, None)"
      ]
     },
     "execution_count": 179,
     "metadata": {},
     "output_type": "execute_result"
    },
    {
     "data": {
      "text/plain": [
       "<Figure size 640x480 with 0 Axes>"
      ]
     },
     "metadata": {},
     "output_type": "display_data"
    }
   ],
   "source": [
    "#Exporting 'bar_family plot'\n",
    "plt.savefig(os.path.join(path, '04 Analysis', 'Visualizations', 'frequency_family.png')), plt.tight_layout()"
   ]
  },
  {
   "cell_type": "code",
   "execution_count": 108,
   "id": "9be5f7b0-896b-42e0-8388-6aac378324f3",
   "metadata": {
    "tags": []
   },
   "outputs": [],
   "source": [
    "# checking 'age_group' with 'order_frequency_flag'\n",
    "age_order_freq=pd.crosstab(df_new['order_frequency_flag'],df_new['age_category'],dropna=False)"
   ]
  },
  {
   "cell_type": "code",
   "execution_count": 109,
   "id": "df8c2eb0-6b44-4e73-9270-9fe564949606",
   "metadata": {
    "tags": []
   },
   "outputs": [
    {
     "data": {
      "image/png": "[encoded data removed]",
      "text/plain": [
       "<Figure size 640x480 with 1 Axes>"
      ]
     },
     "metadata": {},
     "output_type": "display_data"
    }
   ],
   "source": [
    "#bar chart for loyalty status\n",
    "age_order_freq=age_order_freq.plot.bar(title='Age Groups by Order Frequency Flag',color=['lightsteelblue','lightblue','tab:blue'])"
   ]
  },
  {
   "cell_type": "code",
   "execution_count": 112,
   "id": "a3252806-397e-4cfd-bad1-ce9c844ac1bc",
   "metadata": {
    "tags": []
   },
   "outputs": [
    {
     "data": {
      "text/plain": [
       "(None,\n",
       " <function matplotlib.pyplot.tight_layout(*, pad=1.08, h_pad=None, w_pad=None, rect=None)>)"
      ]
     },
     "execution_count": 112,
     "metadata": {},
     "output_type": "execute_result"
    }
   ],
   "source": [
    "# exporting the above 'age_order_freq_viz' visualization\n",
    "age_order_freq.figure.savefig(os.path.join(path,'04 Analysis','Visualizations','age_order_freq.png'),bbox_inches='tight'), plt.tight_layout"
   ]
  },
  {
   "cell_type": "code",
   "execution_count": 117,
   "id": "aa910db6-b5f3-44a0-a40d-f6105e0bb99e",
   "metadata": {
    "tags": []
   },
   "outputs": [],
   "source": [
    "# creating a crosstab between 'busiest_period_of_day' and 'loyalty_flag'\n",
    "\n",
    "loyalty_busiest_period=pd.crosstab(df_new['busiest_period_of_day'],df_new['loyalty_flag'])"
   ]
  },
  {
   "cell_type": "code",
   "execution_count": 118,
   "id": "18fb1b93-7f80-4a54-a9d3-9a4e50f57343",
   "metadata": {
    "tags": []
   },
   "outputs": [
    {
     "data": {
      "image/png": "[encoded data removed]",
      "text/plain": [
       "<Figure size 640x480 with 1 Axes>"
      ]
     },
     "metadata": {},
     "output_type": "display_data"
    }
   ],
   "source": [
    "#Chart of Ordering time Customers\n",
    "loyalty_busiest_period=loyalty_busiest_period.plot.bar(title='Ordering Time of the Customers',color=['lightsteelblue','lightblue','tab:blue'])"
   ]
  },
  {
   "cell_type": "code",
   "execution_count": 120,
   "id": "e37730dc-2691-436b-900e-f25f41f48d54",
   "metadata": {
    "tags": []
   },
   "outputs": [
    {
     "data": {
      "text/plain": [
       "(None,\n",
       " <function matplotlib.pyplot.tight_layout(*, pad=1.08, h_pad=None, w_pad=None, rect=None)>)"
      ]
     },
     "execution_count": 120,
     "metadata": {},
     "output_type": "execute_result"
    }
   ],
   "source": [
    "# exporting visualization\n",
    "loyalty_busiest_period.figure.savefig(os.path.join(path,'04 Analysis','Visualizations','loyalty_ordering_time.png'),bbox_inches='tight'), plt.tight_layout"
   ]
  },
  {
   "cell_type": "code",
   "execution_count": 152,
   "id": "0995baec-58f3-4526-ad58-67bce0e28f6e",
   "metadata": {
    "tags": []
   },
   "outputs": [],
   "source": [
    "# creating a crosstab between 'busiest_days' and 'loyalty_flag'\n",
    "loyalty_order_days=pd.crosstab(df_merged_clean['busiest_day'],df_merged_clean['loyalty_flag'])"
   ]
  },
  {
   "cell_type": "code",
   "execution_count": 153,
   "id": "16597902-417c-4543-b943-a8c6dcc78517",
   "metadata": {
    "tags": []
   },
   "outputs": [
    {
     "data": {
      "image/png": "[encoded data removed]",
      "text/plain": [
       "<Figure size 640x480 with 1 Axes>"
      ]
     },
     "metadata": {},
     "output_type": "display_data"
    }
   ],
   "source": [
    "# creating a visualization for the 'loyalty_order_days' crosstab\n",
    "loyalty_order_days=loyalty_order_days.plot.bar(title='Ordering Days of the Customers',color=['lightsteelblue','lightblue','tab:blue'])"
   ]
  },
  {
   "cell_type": "code",
   "execution_count": 155,
   "id": "86b411ea-fd3b-4767-8f0e-c0bba3861262",
   "metadata": {
    "tags": []
   },
   "outputs": [
    {
     "data": {
      "text/plain": [
       "(None,\n",
       " <function matplotlib.pyplot.tight_layout(*, pad=1.08, h_pad=None, w_pad=None, rect=None)>)"
      ]
     },
     "execution_count": 155,
     "metadata": {},
     "output_type": "execute_result"
    }
   ],
   "source": [
    "# exporting the above visualization\n",
    "loyalty_order_days.figure.savefig(os.path.join(path,'04 Analysis','Visualizations','loyalty_order_days.png'),bbox_inches='tight'), plt.tight_layout"
   ]
  },
  {
   "cell_type": "code",
   "execution_count": 122,
   "id": "51eef581-2bcc-4944-ae86-fd7e2d695342",
   "metadata": {
    "tags": []
   },
   "outputs": [],
   "source": [
    "# creating a crosstab between 'spending_flag' and 'loyalty_flag'\n",
    "loyalty_spending=pd.crosstab(df_new['spending_flag'],df_new['loyalty_flag'])"
   ]
  },
  {
   "cell_type": "code",
   "execution_count": 123,
   "id": "ae46f695-a24e-46fd-9543-050b1a0a320b",
   "metadata": {
    "tags": []
   },
   "outputs": [
    {
     "data": {
      "image/png": "[encoded data removed]",
      "text/plain": [
       "<Figure size 640x480 with 1 Axes>"
      ]
     },
     "metadata": {},
     "output_type": "display_data"
    }
   ],
   "source": [
    "#Creating visualization of 'spending_flag' and 'loyalty_flag'\n",
    "loyalty_spending=loyalty_spending.plot.bar(title='Spending Habit of the Customers',color=['lightsteelblue','lightblue','tab:blue'])"
   ]
  },
  {
   "cell_type": "code",
   "execution_count": 125,
   "id": "0b123e95-546e-45eb-98c8-4290ca23fbf8",
   "metadata": {
    "tags": []
   },
   "outputs": [
    {
     "data": {
      "text/plain": [
       "(None,\n",
       " <function matplotlib.pyplot.tight_layout(*, pad=1.08, h_pad=None, w_pad=None, rect=None)>)"
      ]
     },
     "execution_count": 125,
     "metadata": {},
     "output_type": "execute_result"
    }
   ],
   "source": [
    "#Exporting chart\n",
    "loyalty_spending.figure.savefig(os.path.join(path,'04 Analysis','Visualizations','loyalty_spending_flag.png'),bbox_inches='tight'), plt.tight_layout"
   ]
  },
  {
   "cell_type": "markdown",
   "id": "a0635896-314d-41ac-ba52-52144167ac85",
   "metadata": {},
   "source": [
    "# Question 7. Aggregate the max, mean, and min variables on a customer-profile level for usage frequency and expenditure."
   ]
  },
  {
   "cell_type": "code",
   "execution_count": 39,
   "id": "9c6e8e52-14f0-4de7-a853-be59a8856540",
   "metadata": {
    "tags": []
   },
   "outputs": [
    {
     "data": {
      "text/plain": [
       "Index(['user_id', 'first_name', 'last_name', 'gender', 'state', 'age',\n",
       "       'date_joined', 'n_dependants', 'fam_status', 'income', 'order_id',\n",
       "       'eval_set', 'order_number', 'order_dow', 'order_hour_of_day',\n",
       "       'days_since_prior_order', 'product_id', 'add_to_cart_order',\n",
       "       'reordered', 'Unnamed: 0_y', 'product_name', 'aisle_id',\n",
       "       'department_id', 'prices', 'price_range_loc', 'busiest_day',\n",
       "       'Busiest days', 'busiest_period_of_day', 'max_order', 'loyalty_flag',\n",
       "       'average_price', 'spending_flag', 'median_prior_orders',\n",
       "       'order_frequency_flag', '_merge'],\n",
       "      dtype='object')"
      ]
     },
     "execution_count": 39,
     "metadata": {},
     "output_type": "execute_result"
    }
   ],
   "source": [
    "df_merged_clean.columns"
   ]
  },
  {
   "cell_type": "code",
   "execution_count": 49,
   "id": "bcb31afd-2365-43e6-b9aa-a8ebba80d59e",
   "metadata": {
    "tags": []
   },
   "outputs": [],
   "source": [
    "#Aggregating max, mean, min variables on customer-profile\n",
    "age_cat_agg = df_merged_clean.groupby('age',) [['days_since_prior_order', 'prices']].agg(['min','max','mean'])    "
   ]
  },
  {
   "cell_type": "code",
   "execution_count": 50,
   "id": "eff64d39-7149-4f7f-b171-6f2539223423",
   "metadata": {},
   "outputs": [
    {
     "data": {
      "text/html": [
       "<div>\n",
       "<style scoped>\n",
       "    .dataframe tbody tr th:only-of-type {\n",
       "        vertical-align: middle;\n",
       "    }\n",
       "\n",
       "    .dataframe tbody tr th {\n",
       "        vertical-align: top;\n",
       "    }\n",
       "\n",
       "    .dataframe thead tr th {\n",
       "        text-align: left;\n",
       "    }\n",
       "\n",
       "    .dataframe thead tr:last-of-type th {\n",
       "        text-align: right;\n",
       "    }\n",
       "</style>\n",
       "<table border=\"1\" class=\"dataframe\">\n",
       "  <thead>\n",
       "    <tr>\n",
       "      <th></th>\n",
       "      <th colspan=\"3\" halign=\"left\">days_since_prior_order</th>\n",
       "      <th colspan=\"3\" halign=\"left\">prices</th>\n",
       "    </tr>\n",
       "    <tr>\n",
       "      <th></th>\n",
       "      <th>min</th>\n",
       "      <th>max</th>\n",
       "      <th>mean</th>\n",
       "      <th>min</th>\n",
       "      <th>max</th>\n",
       "      <th>mean</th>\n",
       "    </tr>\n",
       "    <tr>\n",
       "      <th>age</th>\n",
       "      <th></th>\n",
       "      <th></th>\n",
       "      <th></th>\n",
       "      <th></th>\n",
       "      <th></th>\n",
       "      <th></th>\n",
       "    </tr>\n",
       "  </thead>\n",
       "  <tbody>\n",
       "    <tr>\n",
       "      <th>18</th>\n",
       "      <td>0.0</td>\n",
       "      <td>30.0</td>\n",
       "      <td>11.249329</td>\n",
       "      <td>1.0</td>\n",
       "      <td>25.0</td>\n",
       "      <td>7.806998</td>\n",
       "    </tr>\n",
       "    <tr>\n",
       "      <th>19</th>\n",
       "      <td>0.0</td>\n",
       "      <td>30.0</td>\n",
       "      <td>11.026940</td>\n",
       "      <td>1.0</td>\n",
       "      <td>25.0</td>\n",
       "      <td>7.805737</td>\n",
       "    </tr>\n",
       "    <tr>\n",
       "      <th>20</th>\n",
       "      <td>0.0</td>\n",
       "      <td>30.0</td>\n",
       "      <td>11.223854</td>\n",
       "      <td>1.0</td>\n",
       "      <td>25.0</td>\n",
       "      <td>7.773174</td>\n",
       "    </tr>\n",
       "    <tr>\n",
       "      <th>21</th>\n",
       "      <td>0.0</td>\n",
       "      <td>30.0</td>\n",
       "      <td>10.985739</td>\n",
       "      <td>1.0</td>\n",
       "      <td>25.0</td>\n",
       "      <td>7.782344</td>\n",
       "    </tr>\n",
       "    <tr>\n",
       "      <th>22</th>\n",
       "      <td>0.0</td>\n",
       "      <td>30.0</td>\n",
       "      <td>10.870718</td>\n",
       "      <td>1.0</td>\n",
       "      <td>25.0</td>\n",
       "      <td>7.784385</td>\n",
       "    </tr>\n",
       "    <tr>\n",
       "      <th>...</th>\n",
       "      <td>...</td>\n",
       "      <td>...</td>\n",
       "      <td>...</td>\n",
       "      <td>...</td>\n",
       "      <td>...</td>\n",
       "      <td>...</td>\n",
       "    </tr>\n",
       "    <tr>\n",
       "      <th>77</th>\n",
       "      <td>0.0</td>\n",
       "      <td>30.0</td>\n",
       "      <td>11.181482</td>\n",
       "      <td>1.0</td>\n",
       "      <td>25.0</td>\n",
       "      <td>7.759185</td>\n",
       "    </tr>\n",
       "    <tr>\n",
       "      <th>78</th>\n",
       "      <td>0.0</td>\n",
       "      <td>30.0</td>\n",
       "      <td>11.267101</td>\n",
       "      <td>1.0</td>\n",
       "      <td>25.0</td>\n",
       "      <td>7.807197</td>\n",
       "    </tr>\n",
       "    <tr>\n",
       "      <th>79</th>\n",
       "      <td>0.0</td>\n",
       "      <td>30.0</td>\n",
       "      <td>10.943151</td>\n",
       "      <td>1.0</td>\n",
       "      <td>25.0</td>\n",
       "      <td>7.776676</td>\n",
       "    </tr>\n",
       "    <tr>\n",
       "      <th>80</th>\n",
       "      <td>0.0</td>\n",
       "      <td>30.0</td>\n",
       "      <td>11.016485</td>\n",
       "      <td>1.0</td>\n",
       "      <td>25.0</td>\n",
       "      <td>7.802018</td>\n",
       "    </tr>\n",
       "    <tr>\n",
       "      <th>81</th>\n",
       "      <td>0.0</td>\n",
       "      <td>30.0</td>\n",
       "      <td>11.120501</td>\n",
       "      <td>1.0</td>\n",
       "      <td>25.0</td>\n",
       "      <td>7.802832</td>\n",
       "    </tr>\n",
       "  </tbody>\n",
       "</table>\n",
       "<p>64 rows × 6 columns</p>\n",
       "</div>"
      ],
      "text/plain": [
       "    days_since_prior_order                  prices                \n",
       "                       min   max       mean    min   max      mean\n",
       "age                                                               \n",
       "18                     0.0  30.0  11.249329    1.0  25.0  7.806998\n",
       "19                     0.0  30.0  11.026940    1.0  25.0  7.805737\n",
       "20                     0.0  30.0  11.223854    1.0  25.0  7.773174\n",
       "21                     0.0  30.0  10.985739    1.0  25.0  7.782344\n",
       "22                     0.0  30.0  10.870718    1.0  25.0  7.784385\n",
       "..                     ...   ...        ...    ...   ...       ...\n",
       "77                     0.0  30.0  11.181482    1.0  25.0  7.759185\n",
       "78                     0.0  30.0  11.267101    1.0  25.0  7.807197\n",
       "79                     0.0  30.0  10.943151    1.0  25.0  7.776676\n",
       "80                     0.0  30.0  11.016485    1.0  25.0  7.802018\n",
       "81                     0.0  30.0  11.120501    1.0  25.0  7.802832\n",
       "\n",
       "[64 rows x 6 columns]"
      ]
     },
     "execution_count": 50,
     "metadata": {},
     "output_type": "execute_result"
    }
   ],
   "source": [
    "age_cat_agg"
   ]
  },
  {
   "cell_type": "markdown",
   "id": "e06253ff-4793-405e-935d-1e5897eda481",
   "metadata": {},
   "source": [
    "## Income class"
   ]
  },
  {
   "cell_type": "code",
   "execution_count": 13,
   "id": "f61e0290-eb40-46a5-ad67-2d9af1f7a17f",
   "metadata": {},
   "outputs": [],
   "source": [
    "# Aggregate min. max. and mean on customer's 'income_class' for usage and expenditure.\n",
    "income_class_agg = df_new.groupby('income_groups',)[['days_since_prior_order','prices']].agg(['min','max','mean'])"
   ]
  },
  {
   "cell_type": "code",
   "execution_count": 52,
   "id": "41cbf9ad-cc67-456b-9646-77b67f238a1e",
   "metadata": {
    "tags": []
   },
   "outputs": [
    {
     "data": {
      "text/html": [
       "<div>\n",
       "<style scoped>\n",
       "    .dataframe tbody tr th:only-of-type {\n",
       "        vertical-align: middle;\n",
       "    }\n",
       "\n",
       "    .dataframe tbody tr th {\n",
       "        vertical-align: top;\n",
       "    }\n",
       "\n",
       "    .dataframe thead tr th {\n",
       "        text-align: left;\n",
       "    }\n",
       "\n",
       "    .dataframe thead tr:last-of-type th {\n",
       "        text-align: right;\n",
       "    }\n",
       "</style>\n",
       "<table border=\"1\" class=\"dataframe\">\n",
       "  <thead>\n",
       "    <tr>\n",
       "      <th></th>\n",
       "      <th colspan=\"3\" halign=\"left\">days_since_prior_order</th>\n",
       "      <th colspan=\"3\" halign=\"left\">prices</th>\n",
       "    </tr>\n",
       "    <tr>\n",
       "      <th></th>\n",
       "      <th>min</th>\n",
       "      <th>max</th>\n",
       "      <th>mean</th>\n",
       "      <th>min</th>\n",
       "      <th>max</th>\n",
       "      <th>mean</th>\n",
       "    </tr>\n",
       "    <tr>\n",
       "      <th>income_groups</th>\n",
       "      <th></th>\n",
       "      <th></th>\n",
       "      <th></th>\n",
       "      <th></th>\n",
       "      <th></th>\n",
       "      <th></th>\n",
       "    </tr>\n",
       "  </thead>\n",
       "  <tbody>\n",
       "    <tr>\n",
       "      <th>High Income</th>\n",
       "      <td>0.0</td>\n",
       "      <td>30.0</td>\n",
       "      <td>10.684310</td>\n",
       "      <td>1.0</td>\n",
       "      <td>25.0</td>\n",
       "      <td>7.940833</td>\n",
       "    </tr>\n",
       "    <tr>\n",
       "      <th>Low Income</th>\n",
       "      <td>0.0</td>\n",
       "      <td>30.0</td>\n",
       "      <td>10.900981</td>\n",
       "      <td>1.0</td>\n",
       "      <td>25.0</td>\n",
       "      <td>7.442144</td>\n",
       "    </tr>\n",
       "    <tr>\n",
       "      <th>Medium Income</th>\n",
       "      <td>0.0</td>\n",
       "      <td>30.0</td>\n",
       "      <td>10.786682</td>\n",
       "      <td>1.0</td>\n",
       "      <td>25.0</td>\n",
       "      <td>7.957631</td>\n",
       "    </tr>\n",
       "  </tbody>\n",
       "</table>\n",
       "</div>"
      ],
      "text/plain": [
       "              days_since_prior_order                  prices                \n",
       "                                 min   max       mean    min   max      mean\n",
       "income_groups                                                               \n",
       "High Income                      0.0  30.0  10.684310    1.0  25.0  7.940833\n",
       "Low Income                       0.0  30.0  10.900981    1.0  25.0  7.442144\n",
       "Medium Income                    0.0  30.0  10.786682    1.0  25.0  7.957631"
      ]
     },
     "execution_count": 52,
     "metadata": {},
     "output_type": "execute_result"
    }
   ],
   "source": [
    "income_class_agg"
   ]
  },
  {
   "cell_type": "markdown",
   "id": "50b81977-f09b-41c9-acdb-ac63f5f2d117",
   "metadata": {},
   "source": [
    "## Aggregating Departments"
   ]
  },
  {
   "cell_type": "code",
   "execution_count": 54,
   "id": "7b068d57-9283-4468-9d8a-4b84b3bf9426",
   "metadata": {
    "tags": []
   },
   "outputs": [],
   "source": [
    "# Aggregate min. max. and mean on customer's 'customer_profile' for usage and expenditure.\n",
    "customer_profile_agg = df_merged_clean.groupby('customer_profile',)[['days_since_prior_order','prices']].agg(['min','max','mean'])"
   ]
  },
  {
   "cell_type": "code",
   "execution_count": 55,
   "id": "36e7260d-2284-4eff-b87c-0c9a1618e7a5",
   "metadata": {
    "tags": []
   },
   "outputs": [
    {
     "data": {
      "text/html": [
       "<div>\n",
       "<style scoped>\n",
       "    .dataframe tbody tr th:only-of-type {\n",
       "        vertical-align: middle;\n",
       "    }\n",
       "\n",
       "    .dataframe tbody tr th {\n",
       "        vertical-align: top;\n",
       "    }\n",
       "\n",
       "    .dataframe thead tr th {\n",
       "        text-align: left;\n",
       "    }\n",
       "\n",
       "    .dataframe thead tr:last-of-type th {\n",
       "        text-align: right;\n",
       "    }\n",
       "</style>\n",
       "<table border=\"1\" class=\"dataframe\">\n",
       "  <thead>\n",
       "    <tr>\n",
       "      <th></th>\n",
       "      <th colspan=\"3\" halign=\"left\">days_since_prior_order</th>\n",
       "      <th colspan=\"3\" halign=\"left\">prices</th>\n",
       "    </tr>\n",
       "    <tr>\n",
       "      <th></th>\n",
       "      <th>min</th>\n",
       "      <th>max</th>\n",
       "      <th>mean</th>\n",
       "      <th>min</th>\n",
       "      <th>max</th>\n",
       "      <th>mean</th>\n",
       "    </tr>\n",
       "    <tr>\n",
       "      <th>customer_profile</th>\n",
       "      <th></th>\n",
       "      <th></th>\n",
       "      <th></th>\n",
       "      <th></th>\n",
       "      <th></th>\n",
       "      <th></th>\n",
       "    </tr>\n",
       "  </thead>\n",
       "  <tbody>\n",
       "    <tr>\n",
       "      <th>Big Family</th>\n",
       "      <td>0.0</td>\n",
       "      <td>30.0</td>\n",
       "      <td>11.118200</td>\n",
       "      <td>1.0</td>\n",
       "      <td>25.0</td>\n",
       "      <td>7.791673</td>\n",
       "    </tr>\n",
       "    <tr>\n",
       "      <th>Family</th>\n",
       "      <td>0.0</td>\n",
       "      <td>30.0</td>\n",
       "      <td>11.115191</td>\n",
       "      <td>1.0</td>\n",
       "      <td>25.0</td>\n",
       "      <td>7.790151</td>\n",
       "    </tr>\n",
       "    <tr>\n",
       "      <th>Single adult</th>\n",
       "      <td>0.0</td>\n",
       "      <td>30.0</td>\n",
       "      <td>11.080822</td>\n",
       "      <td>1.0</td>\n",
       "      <td>25.0</td>\n",
       "      <td>7.789944</td>\n",
       "    </tr>\n",
       "    <tr>\n",
       "      <th>Young parent</th>\n",
       "      <td>0.0</td>\n",
       "      <td>30.0</td>\n",
       "      <td>11.048160</td>\n",
       "      <td>1.0</td>\n",
       "      <td>25.0</td>\n",
       "      <td>7.800692</td>\n",
       "    </tr>\n",
       "  </tbody>\n",
       "</table>\n",
       "</div>"
      ],
      "text/plain": [
       "                 days_since_prior_order                  prices        \\\n",
       "                                    min   max       mean    min   max   \n",
       "customer_profile                                                        \n",
       "Big Family                          0.0  30.0  11.118200    1.0  25.0   \n",
       "Family                              0.0  30.0  11.115191    1.0  25.0   \n",
       "Single adult                        0.0  30.0  11.080822    1.0  25.0   \n",
       "Young parent                        0.0  30.0  11.048160    1.0  25.0   \n",
       "\n",
       "                            \n",
       "                      mean  \n",
       "customer_profile            \n",
       "Big Family        7.791673  \n",
       "Family            7.790151  \n",
       "Single adult      7.789944  \n",
       "Young parent      7.800692  "
      ]
     },
     "execution_count": 55,
     "metadata": {},
     "output_type": "execute_result"
    }
   ],
   "source": [
    "customer_profile_agg"
   ]
  },
  {
   "cell_type": "markdown",
   "id": "9a7681e5-698a-4288-98cb-df3e3468e1a7",
   "metadata": {},
   "source": [
    "# Questions 08. & 09. Customers Profiles Across Regions and Departments with Visualizations"
   ]
  },
  {
   "cell_type": "code",
   "execution_count": 41,
   "id": "702d77f6-2755-4cc6-94e2-b61407eb8883",
   "metadata": {
    "tags": []
   },
   "outputs": [],
   "source": [
    "# Checking the relationship of 'age_category' & 'income_groups' of customers profile in differnet regions.\n",
    "profile_age_reg = df_new.groupby('region')[['income_groups','age_category']].value_counts().reset_index(name='count')"
   ]
  },
  {
   "cell_type": "code",
   "execution_count": 42,
   "id": "4435141d-babd-40d8-91c6-b4fe617ccef6",
   "metadata": {
    "tags": []
   },
   "outputs": [
    {
     "data": {
      "text/html": [
       "<div>\n",
       "<style scoped>\n",
       "    .dataframe tbody tr th:only-of-type {\n",
       "        vertical-align: middle;\n",
       "    }\n",
       "\n",
       "    .dataframe tbody tr th {\n",
       "        vertical-align: top;\n",
       "    }\n",
       "\n",
       "    .dataframe thead th {\n",
       "        text-align: right;\n",
       "    }\n",
       "</style>\n",
       "<table border=\"1\" class=\"dataframe\">\n",
       "  <thead>\n",
       "    <tr style=\"text-align: right;\">\n",
       "      <th></th>\n",
       "      <th>region</th>\n",
       "      <th>income_groups</th>\n",
       "      <th>age_category</th>\n",
       "      <th>count</th>\n",
       "    </tr>\n",
       "  </thead>\n",
       "  <tbody>\n",
       "    <tr>\n",
       "      <th>0</th>\n",
       "      <td>Midwest</td>\n",
       "      <td>Medium Income</td>\n",
       "      <td>Middle Age</td>\n",
       "      <td>1654702</td>\n",
       "    </tr>\n",
       "    <tr>\n",
       "      <th>1</th>\n",
       "      <td>Midwest</td>\n",
       "      <td>Medium Income</td>\n",
       "      <td>Senior Citizens</td>\n",
       "      <td>1556273</td>\n",
       "    </tr>\n",
       "    <tr>\n",
       "      <th>2</th>\n",
       "      <td>Midwest</td>\n",
       "      <td>Low Income</td>\n",
       "      <td>Young Age</td>\n",
       "      <td>1234056</td>\n",
       "    </tr>\n",
       "    <tr>\n",
       "      <th>3</th>\n",
       "      <td>Midwest</td>\n",
       "      <td>Medium Income</td>\n",
       "      <td>Young Age</td>\n",
       "      <td>765283</td>\n",
       "    </tr>\n",
       "    <tr>\n",
       "      <th>4</th>\n",
       "      <td>Midwest</td>\n",
       "      <td>Low Income</td>\n",
       "      <td>Middle Age</td>\n",
       "      <td>700800</td>\n",
       "    </tr>\n",
       "    <tr>\n",
       "      <th>5</th>\n",
       "      <td>Midwest</td>\n",
       "      <td>High Income</td>\n",
       "      <td>Senior Citizens</td>\n",
       "      <td>448268</td>\n",
       "    </tr>\n",
       "    <tr>\n",
       "      <th>6</th>\n",
       "      <td>Midwest</td>\n",
       "      <td>High Income</td>\n",
       "      <td>Middle Age</td>\n",
       "      <td>431697</td>\n",
       "    </tr>\n",
       "    <tr>\n",
       "      <th>7</th>\n",
       "      <td>Midwest</td>\n",
       "      <td>Low Income</td>\n",
       "      <td>Senior Citizens</td>\n",
       "      <td>352322</td>\n",
       "    </tr>\n",
       "    <tr>\n",
       "      <th>8</th>\n",
       "      <td>Midwest</td>\n",
       "      <td>High Income</td>\n",
       "      <td>Young Age</td>\n",
       "      <td>19152</td>\n",
       "    </tr>\n",
       "    <tr>\n",
       "      <th>9</th>\n",
       "      <td>Northeast</td>\n",
       "      <td>Medium Income</td>\n",
       "      <td>Middle Age</td>\n",
       "      <td>1211085</td>\n",
       "    </tr>\n",
       "    <tr>\n",
       "      <th>10</th>\n",
       "      <td>Northeast</td>\n",
       "      <td>Medium Income</td>\n",
       "      <td>Senior Citizens</td>\n",
       "      <td>1196538</td>\n",
       "    </tr>\n",
       "    <tr>\n",
       "      <th>11</th>\n",
       "      <td>Northeast</td>\n",
       "      <td>Low Income</td>\n",
       "      <td>Young Age</td>\n",
       "      <td>935817</td>\n",
       "    </tr>\n",
       "    <tr>\n",
       "      <th>12</th>\n",
       "      <td>Northeast</td>\n",
       "      <td>Medium Income</td>\n",
       "      <td>Young Age</td>\n",
       "      <td>603404</td>\n",
       "    </tr>\n",
       "    <tr>\n",
       "      <th>13</th>\n",
       "      <td>Northeast</td>\n",
       "      <td>Low Income</td>\n",
       "      <td>Middle Age</td>\n",
       "      <td>504677</td>\n",
       "    </tr>\n",
       "    <tr>\n",
       "      <th>14</th>\n",
       "      <td>Northeast</td>\n",
       "      <td>High Income</td>\n",
       "      <td>Senior Citizens</td>\n",
       "      <td>334039</td>\n",
       "    </tr>\n",
       "    <tr>\n",
       "      <th>15</th>\n",
       "      <td>Northeast</td>\n",
       "      <td>High Income</td>\n",
       "      <td>Middle Age</td>\n",
       "      <td>313262</td>\n",
       "    </tr>\n",
       "    <tr>\n",
       "      <th>16</th>\n",
       "      <td>Northeast</td>\n",
       "      <td>Low Income</td>\n",
       "      <td>Senior Citizens</td>\n",
       "      <td>278494</td>\n",
       "    </tr>\n",
       "    <tr>\n",
       "      <th>17</th>\n",
       "      <td>Northeast</td>\n",
       "      <td>High Income</td>\n",
       "      <td>Young Age</td>\n",
       "      <td>12296</td>\n",
       "    </tr>\n",
       "    <tr>\n",
       "      <th>18</th>\n",
       "      <td>South</td>\n",
       "      <td>Medium Income</td>\n",
       "      <td>Middle Age</td>\n",
       "      <td>2150969</td>\n",
       "    </tr>\n",
       "    <tr>\n",
       "      <th>19</th>\n",
       "      <td>South</td>\n",
       "      <td>Medium Income</td>\n",
       "      <td>Senior Citizens</td>\n",
       "      <td>2072250</td>\n",
       "    </tr>\n",
       "    <tr>\n",
       "      <th>20</th>\n",
       "      <td>South</td>\n",
       "      <td>Low Income</td>\n",
       "      <td>Young Age</td>\n",
       "      <td>1688004</td>\n",
       "    </tr>\n",
       "    <tr>\n",
       "      <th>21</th>\n",
       "      <td>South</td>\n",
       "      <td>Medium Income</td>\n",
       "      <td>Young Age</td>\n",
       "      <td>1055642</td>\n",
       "    </tr>\n",
       "    <tr>\n",
       "      <th>22</th>\n",
       "      <td>South</td>\n",
       "      <td>Low Income</td>\n",
       "      <td>Middle Age</td>\n",
       "      <td>926672</td>\n",
       "    </tr>\n",
       "    <tr>\n",
       "      <th>23</th>\n",
       "      <td>South</td>\n",
       "      <td>High Income</td>\n",
       "      <td>Senior Citizens</td>\n",
       "      <td>599812</td>\n",
       "    </tr>\n",
       "    <tr>\n",
       "      <th>24</th>\n",
       "      <td>South</td>\n",
       "      <td>High Income</td>\n",
       "      <td>Middle Age</td>\n",
       "      <td>538343</td>\n",
       "    </tr>\n",
       "    <tr>\n",
       "      <th>25</th>\n",
       "      <td>South</td>\n",
       "      <td>Low Income</td>\n",
       "      <td>Senior Citizens</td>\n",
       "      <td>486031</td>\n",
       "    </tr>\n",
       "    <tr>\n",
       "      <th>26</th>\n",
       "      <td>South</td>\n",
       "      <td>High Income</td>\n",
       "      <td>Young Age</td>\n",
       "      <td>29229</td>\n",
       "    </tr>\n",
       "    <tr>\n",
       "      <th>27</th>\n",
       "      <td>West</td>\n",
       "      <td>Medium Income</td>\n",
       "      <td>Middle Age</td>\n",
       "      <td>1774160</td>\n",
       "    </tr>\n",
       "    <tr>\n",
       "      <th>28</th>\n",
       "      <td>West</td>\n",
       "      <td>Medium Income</td>\n",
       "      <td>Senior Citizens</td>\n",
       "      <td>1695275</td>\n",
       "    </tr>\n",
       "    <tr>\n",
       "      <th>29</th>\n",
       "      <td>West</td>\n",
       "      <td>Low Income</td>\n",
       "      <td>Young Age</td>\n",
       "      <td>1395570</td>\n",
       "    </tr>\n",
       "    <tr>\n",
       "      <th>30</th>\n",
       "      <td>West</td>\n",
       "      <td>Medium Income</td>\n",
       "      <td>Young Age</td>\n",
       "      <td>803412</td>\n",
       "    </tr>\n",
       "    <tr>\n",
       "      <th>31</th>\n",
       "      <td>West</td>\n",
       "      <td>Low Income</td>\n",
       "      <td>Middle Age</td>\n",
       "      <td>743002</td>\n",
       "    </tr>\n",
       "    <tr>\n",
       "      <th>32</th>\n",
       "      <td>West</td>\n",
       "      <td>High Income</td>\n",
       "      <td>Senior Citizens</td>\n",
       "      <td>488728</td>\n",
       "    </tr>\n",
       "    <tr>\n",
       "      <th>33</th>\n",
       "      <td>West</td>\n",
       "      <td>High Income</td>\n",
       "      <td>Middle Age</td>\n",
       "      <td>478269</td>\n",
       "    </tr>\n",
       "    <tr>\n",
       "      <th>34</th>\n",
       "      <td>West</td>\n",
       "      <td>Low Income</td>\n",
       "      <td>Senior Citizens</td>\n",
       "      <td>401669</td>\n",
       "    </tr>\n",
       "    <tr>\n",
       "      <th>35</th>\n",
       "      <td>West</td>\n",
       "      <td>High Income</td>\n",
       "      <td>Young Age</td>\n",
       "      <td>19608</td>\n",
       "    </tr>\n",
       "  </tbody>\n",
       "</table>\n",
       "</div>"
      ],
      "text/plain": [
       "       region  income_groups     age_category    count\n",
       "0     Midwest  Medium Income       Middle Age  1654702\n",
       "1     Midwest  Medium Income  Senior Citizens  1556273\n",
       "2     Midwest     Low Income        Young Age  1234056\n",
       "3     Midwest  Medium Income        Young Age   765283\n",
       "4     Midwest     Low Income       Middle Age   700800\n",
       "5     Midwest    High Income  Senior Citizens   448268\n",
       "6     Midwest    High Income       Middle Age   431697\n",
       "7     Midwest     Low Income  Senior Citizens   352322\n",
       "8     Midwest    High Income        Young Age    19152\n",
       "9   Northeast  Medium Income       Middle Age  1211085\n",
       "10  Northeast  Medium Income  Senior Citizens  1196538\n",
       "11  Northeast     Low Income        Young Age   935817\n",
       "12  Northeast  Medium Income        Young Age   603404\n",
       "13  Northeast     Low Income       Middle Age   504677\n",
       "14  Northeast    High Income  Senior Citizens   334039\n",
       "15  Northeast    High Income       Middle Age   313262\n",
       "16  Northeast     Low Income  Senior Citizens   278494\n",
       "17  Northeast    High Income        Young Age    12296\n",
       "18      South  Medium Income       Middle Age  2150969\n",
       "19      South  Medium Income  Senior Citizens  2072250\n",
       "20      South     Low Income        Young Age  1688004\n",
       "21      South  Medium Income        Young Age  1055642\n",
       "22      South     Low Income       Middle Age   926672\n",
       "23      South    High Income  Senior Citizens   599812\n",
       "24      South    High Income       Middle Age   538343\n",
       "25      South     Low Income  Senior Citizens   486031\n",
       "26      South    High Income        Young Age    29229\n",
       "27       West  Medium Income       Middle Age  1774160\n",
       "28       West  Medium Income  Senior Citizens  1695275\n",
       "29       West     Low Income        Young Age  1395570\n",
       "30       West  Medium Income        Young Age   803412\n",
       "31       West     Low Income       Middle Age   743002\n",
       "32       West    High Income  Senior Citizens   488728\n",
       "33       West    High Income       Middle Age   478269\n",
       "34       West     Low Income  Senior Citizens   401669\n",
       "35       West    High Income        Young Age    19608"
      ]
     },
     "execution_count": 42,
     "metadata": {},
     "output_type": "execute_result"
    }
   ],
   "source": [
    "profile_age_reg"
   ]
  },
  {
   "cell_type": "code",
   "execution_count": 14,
   "id": "c0a28f1f-f6bf-4b59-bdb7-09c79241a831",
   "metadata": {
    "tags": []
   },
   "outputs": [],
   "source": [
    "# Checking income_class by regions.\n",
    "region_income = pd.crosstab(df_new['income_groups'],df_merged_clean['region'], dropna = False)"
   ]
  },
  {
   "cell_type": "code",
   "execution_count": 77,
   "id": "a23c51aa-b801-4d3b-9180-8477765962a5",
   "metadata": {
    "tags": []
   },
   "outputs": [
    {
     "data": {
      "text/html": [
       "<div>\n",
       "<style scoped>\n",
       "    .dataframe tbody tr th:only-of-type {\n",
       "        vertical-align: middle;\n",
       "    }\n",
       "\n",
       "    .dataframe tbody tr th {\n",
       "        vertical-align: top;\n",
       "    }\n",
       "\n",
       "    .dataframe thead th {\n",
       "        text-align: right;\n",
       "    }\n",
       "</style>\n",
       "<table border=\"1\" class=\"dataframe\">\n",
       "  <thead>\n",
       "    <tr style=\"text-align: right;\">\n",
       "      <th>region</th>\n",
       "      <th>Midwest</th>\n",
       "      <th>Northeast</th>\n",
       "      <th>South</th>\n",
       "      <th>West</th>\n",
       "    </tr>\n",
       "    <tr>\n",
       "      <th>income_groups</th>\n",
       "      <th></th>\n",
       "      <th></th>\n",
       "      <th></th>\n",
       "      <th></th>\n",
       "    </tr>\n",
       "  </thead>\n",
       "  <tbody>\n",
       "    <tr>\n",
       "      <th>High Income</th>\n",
       "      <td>916998</td>\n",
       "      <td>677704</td>\n",
       "      <td>1197503</td>\n",
       "      <td>1009621</td>\n",
       "    </tr>\n",
       "    <tr>\n",
       "      <th>Low Income</th>\n",
       "      <td>2300620</td>\n",
       "      <td>1730055</td>\n",
       "      <td>3128019</td>\n",
       "      <td>2562635</td>\n",
       "    </tr>\n",
       "    <tr>\n",
       "      <th>Medium Income</th>\n",
       "      <td>4043611</td>\n",
       "      <td>3057070</td>\n",
       "      <td>5372267</td>\n",
       "      <td>4355257</td>\n",
       "    </tr>\n",
       "  </tbody>\n",
       "</table>\n",
       "</div>"
      ],
      "text/plain": [
       "region         Midwest  Northeast    South     West\n",
       "income_groups                                      \n",
       "High Income     916998     677704  1197503  1009621\n",
       "Low Income     2300620    1730055  3128019  2562635\n",
       "Medium Income  4043611    3057070  5372267  4355257"
      ]
     },
     "execution_count": 77,
     "metadata": {},
     "output_type": "execute_result"
    }
   ],
   "source": [
    "region_income"
   ]
  },
  {
   "cell_type": "code",
   "execution_count": 15,
   "id": "a291e087-4e7d-44e2-ab52-b0ea2c2cfa87",
   "metadata": {
    "tags": []
   },
   "outputs": [
    {
     "data": {
      "text/plain": [
       "(<matplotlib.legend.Legend at 0x23c2c4b1790>, None)"
      ]
     },
     "execution_count": 15,
     "metadata": {},
     "output_type": "execute_result"
    },
    {
     "data": {
      "image/png": "[encoded data removed]",
      "text/plain": [
       "<Figure size 640x480 with 1 Axes>"
      ]
     },
     "metadata": {},
     "output_type": "display_data"
    }
   ],
   "source": [
    "# Visualtization of 'income_class' and 'region'\n",
    "bar_region_income = region_income.plot.bar(title = 'Income Class Across Regions')\n",
    "plt.xlabel(\"Income Group\")\n",
    "plt.legend(loc='upper left', bbox_to_anchor=(1, 1)), plt.tight_layout()"
   ]
  },
  {
   "cell_type": "code",
   "execution_count": 6,
   "id": "4f19955d-54d2-4a51-adf1-c2ee2011b6c3",
   "metadata": {},
   "outputs": [
    {
     "ename": "NameError",
     "evalue": "name 'bar_region_income' is not defined",
     "output_type": "error",
     "traceback": [
      "\u001b[1;31m---------------------------------------------------------------------------\u001b[0m",
      "\u001b[1;31mNameError\u001b[0m                                 Traceback (most recent call last)",
      "Cell \u001b[1;32mIn[6], line 2\u001b[0m\n\u001b[0;32m      1\u001b[0m \u001b[38;5;66;03m# Export bar chart\u001b[39;00m\n\u001b[1;32m----> 2\u001b[0m bar_region_income\u001b[38;5;241m.\u001b[39mfigure\u001b[38;5;241m.\u001b[39msavefig(os\u001b[38;5;241m.\u001b[39mpath\u001b[38;5;241m.\u001b[39mjoin(path, \u001b[38;5;124m'\u001b[39m\u001b[38;5;124m04 Analysis\u001b[39m\u001b[38;5;124m'\u001b[39m, \u001b[38;5;124m'\u001b[39m\u001b[38;5;124mVisualizations\u001b[39m\u001b[38;5;124m'\u001b[39m, \u001b[38;5;124m'\u001b[39m\u001b[38;5;124mbar_region_income.png\u001b[39m\u001b[38;5;124m'\u001b[39m)), plt\u001b[38;5;241m.\u001b[39mtight_layout()\n",
      "\u001b[1;31mNameError\u001b[0m: name 'bar_region_income' is not defined"
     ]
    }
   ],
   "source": [
    "# Export bar chart\n",
    "bar_region_income.figure.savefig(os.path.join(path, '04 Analysis', 'Visualizations', 'bar_region_income.png')), plt.tight_layout()"
   ]
  },
  {
   "cell_type": "code",
   "execution_count": 65,
   "id": "5a37abaf-aaea-4cf8-a2d1-66ebefa1c699",
   "metadata": {
    "tags": []
   },
   "outputs": [],
   "source": [
    "#Create new index\n",
    "new_index = ['Sunday', 'Monday', 'Tuesday', 'Wednesday', 'Thursday', 'Friday', 'Saturday']"
   ]
  },
  {
   "cell_type": "code",
   "execution_count": 66,
   "id": "698d88b4-39af-4ead-b99e-b12f165e8b44",
   "metadata": {
    "tags": []
   },
   "outputs": [
    {
     "ename": "TypeError",
     "evalue": "'list' object is not callable",
     "output_type": "error",
     "traceback": [
      "\u001b[1;31m---------------------------------------------------------------------------\u001b[0m",
      "\u001b[1;31mTypeError\u001b[0m                                 Traceback (most recent call last)",
      "Cell \u001b[1;32mIn[66], line 1\u001b[0m\n\u001b[1;32m----> 1\u001b[0m df_merged_clean\u001b[38;5;241m.\u001b[39mreindex([\u001b[38;5;124m'\u001b[39m\u001b[38;5;124m1\u001b[39m\u001b[38;5;124m'\u001b[39m, \u001b[38;5;124m'\u001b[39m\u001b[38;5;124m2\u001b[39m\u001b[38;5;124m'\u001b[39m, \u001b[38;5;124m'\u001b[39m\u001b[38;5;124m3\u001b[39m\u001b[38;5;124m'\u001b[39m, \u001b[38;5;124m'\u001b[39m\u001b[38;5;124m4\u001b[39m\u001b[38;5;124m'\u001b[39m, \u001b[38;5;124m'\u001b[39m\u001b[38;5;124m5\u001b[39m\u001b[38;5;124m'\u001b[39m, \u001b[38;5;124m'\u001b[39m\u001b[38;5;124m6\u001b[39m\u001b[38;5;124m'\u001b[39m , \u001b[38;5;124m'\u001b[39m\u001b[38;5;124m0\u001b[39m\u001b[38;5;124m'\u001b[39m])\n",
      "\u001b[1;31mTypeError\u001b[0m: 'list' object is not callable"
     ]
    }
   ],
   "source": [
    "df_merged_clean.reindex(['1', '2', '3', '4', '5', '6' , '0'])"
   ]
  },
  {
   "cell_type": "code",
   "execution_count": 51,
   "id": "748350d9-b978-437f-8d20-8ffb0234f5e4",
   "metadata": {
    "tags": []
   },
   "outputs": [],
   "source": [
    "df_merged_clean.reindex = ['1', '2', '3', '4', '5', '6' , '0']"
   ]
  },
  {
   "cell_type": "code",
   "execution_count": 52,
   "id": "59871d38-9b64-4431-a80e-350029890af0",
   "metadata": {
    "tags": []
   },
   "outputs": [
    {
     "data": {
      "text/plain": [
       "['1', '2', '3', '4', '5', '6', '0']"
      ]
     },
     "execution_count": 52,
     "metadata": {},
     "output_type": "execute_result"
    }
   ],
   "source": [
    "df_merged_clean.reindex"
   ]
  },
  {
   "cell_type": "code",
   "execution_count": 59,
   "id": "6a1da551-a2ce-4e84-afbd-f1b0405ec6c2",
   "metadata": {
    "tags": []
   },
   "outputs": [
    {
     "data": {
      "image/png": "[encoded data removed]",
      "text/plain": [
       "<Figure size 640x480 with 1 Axes>"
      ]
     },
     "metadata": {},
     "output_type": "display_data"
    }
   ],
   "source": [
    "hist_day_of_week = df_merged_clean['order_dow'].plot.hist(bins = 50, title = 'Order Day of Week'), df_merged_clean.reindex"
   ]
  },
  {
   "cell_type": "code",
   "execution_count": 52,
   "id": "64dcf1f6-8927-4b36-a6b6-c4939bc0552a",
   "metadata": {
    "tags": []
   },
   "outputs": [
    {
     "data": {
      "text/plain": [
       "(None, None)"
      ]
     },
     "execution_count": 52,
     "metadata": {},
     "output_type": "execute_result"
    },
    {
     "data": {
      "text/plain": [
       "<Figure size 640x480 with 0 Axes>"
      ]
     },
     "metadata": {},
     "output_type": "display_data"
    }
   ],
   "source": [
    "hist_day_of_week.figure.savefig(os.path.join(path, '04 Analysis', 'Visualizations', 'bar_region_income.png')), plt.tight_layout()"
   ]
  },
  {
   "cell_type": "code",
   "execution_count": 85,
   "id": "1d643189-fc0f-4e8b-ab79-03344169b923",
   "metadata": {
    "tags": []
   },
   "outputs": [
    {
     "data": {
      "image/png": "[encoded data removed]",
      "text/plain": [
       "<Figure size 640x480 with 1 Axes>"
      ]
     },
     "metadata": {},
     "output_type": "display_data"
    }
   ],
   "source": [
    "#Create bar chart of fam_status\n",
    "bar_cust_inc_prof = df_merged_clean['fam_status'].value_counts().sort_values(ascending=True).plot.barh(color = ['salmon','orange','salmon', 'limegreen','gold', 'orange', 'gold', 'green', 'mediumblue', 'salmon','orange','green','gold','mediumblue', 'mediumblue'], title = 'Customer Income Profile Counts' )"
   ]
  },
  {
   "cell_type": "code",
   "execution_count": 86,
   "id": "a227f2f0-fa92-4ad5-b7b2-33c9b6917f01",
   "metadata": {
    "tags": []
   },
   "outputs": [
    {
     "data": {
      "text/plain": [
       "(None, None)"
      ]
     },
     "execution_count": 86,
     "metadata": {},
     "output_type": "execute_result"
    },
    {
     "data": {
      "text/plain": [
       "<Figure size 640x480 with 0 Axes>"
      ]
     },
     "metadata": {},
     "output_type": "display_data"
    }
   ],
   "source": [
    "#Export bar chart\n",
    "bar_cust_inc_prof.figure.savefig(os.path.join(path, '04 Analysis', 'Visualizations', 'bar_region_income.png')), plt.tight_layout()"
   ]
  },
  {
   "cell_type": "code",
   "execution_count": 45,
   "id": "f2c26413-e4be-4487-bcbe-3b811aa2f9be",
   "metadata": {
    "tags": []
   },
   "outputs": [
    {
     "data": {
      "text/plain": [
       "Index(['user_id', 'first_name', 'last_name', 'gender', 'state', 'age',\n",
       "       'date_joined', 'n_dependants', 'fam_status', 'income', 'order_id',\n",
       "       'eval_set', 'order_number', 'order_dow', 'order_hour_of_day',\n",
       "       'days_since_prior_order', 'product_id', 'add_to_cart_order',\n",
       "       'reordered', 'Unnamed: 0_y', 'product_name', 'aisle_id',\n",
       "       'department_id', 'prices', 'price_range_loc', 'busiest_day',\n",
       "       'Busiest days', 'busiest_period_of_day', 'max_order', 'loyalty_flag',\n",
       "       'average_price', 'spending_flag', 'median_prior_orders',\n",
       "       'order_frequency_flag', '_merge', 'customer_profile'],\n",
       "      dtype='object')"
      ]
     },
     "execution_count": 45,
     "metadata": {},
     "output_type": "execute_result"
    }
   ],
   "source": [
    "df_merged_clean.columns"
   ]
  },
  {
   "cell_type": "code",
   "execution_count": 46,
   "id": "3d399482-ab04-4561-988c-ced5ca0dd035",
   "metadata": {
    "tags": []
   },
   "outputs": [
    {
     "data": {
      "text/plain": [
       "Index(['user_id', 'first_name', 'last_name', 'gender', 'state', 'age',\n",
       "       'date_joined', 'n_dependants', 'fam_status', 'income', 'order_id',\n",
       "       'eval_set', 'order_number', 'order_dow', 'order_hour_of_day',\n",
       "       'days_since_prior_order', 'product_id', 'add_to_cart_order',\n",
       "       'reordered', 'Unnamed: 0_y', 'product_name', 'aisle_id',\n",
       "       'department_id', 'prices', 'price_range_loc', 'busiest_day',\n",
       "       'Busiest days', 'busiest_period_of_day', 'max_order', 'loyalty_flag',\n",
       "       'average_price', 'spending_flag', 'median_prior_orders',\n",
       "       'order_frequency_flag', '_merge', 'region', 'customer_activity',\n",
       "       'department'],\n",
       "      dtype='object')"
      ]
     },
     "execution_count": 46,
     "metadata": {},
     "output_type": "execute_result"
    }
   ],
   "source": [
    "df_merged.columns"
   ]
  },
  {
   "cell_type": "code",
   "execution_count": 60,
   "id": "9ef63189-49b3-4acf-b9f2-6b4c44a92a25",
   "metadata": {
    "tags": []
   },
   "outputs": [],
   "source": [
    "# Pivot the data to create a stacked bar chart to see relationship between 'departments' and 'customers_profile'\n",
    "customer_fam_dep = df_merged.groupby(['department', 'customer_profile']).size().unstack(fill_value=0)"
   ]
  },
  {
   "cell_type": "code",
   "execution_count": 59,
   "id": "ae7743aa-731b-4f42-b3be-293cffc93bc5",
   "metadata": {
    "tags": []
   },
   "outputs": [
    {
     "data": {
      "image/png": "[encoded data removed]",
      "text/plain": [
       "<Figure size 640x480 with 1 Axes>"
      ]
     },
     "metadata": {},
     "output_type": "display_data"
    }
   ],
   "source": [
    "#stacked bar graph\n",
    "stacked_cust_dept = customer_fam_dep.plot.bar(stacked = True, title = 'Customer Profile by Departments')"
   ]
  },
  {
   "cell_type": "code",
   "execution_count": 69,
   "id": "bc4ee31c-61a7-4335-b17e-63120fb29f7b",
   "metadata": {
    "tags": []
   },
   "outputs": [
    {
     "data": {
      "text/plain": [
       "(None,\n",
       " <function matplotlib.pyplot.tight_layout(*, pad=1.08, h_pad=None, w_pad=None, rect=None)>)"
      ]
     },
     "execution_count": 69,
     "metadata": {},
     "output_type": "execute_result"
    }
   ],
   "source": [
    "#Export stacked_cust_dept chart\n",
    "stacked_cust_dept.figure.savefig(os.path.join(path, '04 Analysis', 'Visualizations', 'stacked_cust_dept.png')), plt.tight_layout"
   ]
  },
  {
   "cell_type": "code",
   "execution_count": 23,
   "id": "36f0ad89-0887-4cd4-9c3b-1138110dec51",
   "metadata": {
    "tags": []
   },
   "outputs": [
    {
     "data": {
      "text/plain": [
       "Index(['user_id', 'first_name', 'last_name', 'gender', 'state', 'age',\n",
       "       'date_joined', 'n_dependants', 'fam_status', 'income', 'order_id',\n",
       "       'eval_set', 'order_number', 'order_dow', 'order_hour_of_day',\n",
       "       'days_since_prior_order', 'product_id', 'add_to_cart_order',\n",
       "       'reordered', 'Unnamed: 0_y', 'product_name', 'aisle_id',\n",
       "       'department_id', 'prices', 'price_range_loc', 'busiest_day',\n",
       "       'Busiest days', 'busiest_period_of_day', 'max_order', 'loyalty_flag',\n",
       "       'average_price', 'spending_flag', 'median_prior_orders',\n",
       "       'order_frequency_flag', '_merge', 'region', 'customer_activity'],\n",
       "      dtype='object')"
      ]
     },
     "execution_count": 23,
     "metadata": {},
     "output_type": "execute_result"
    }
   ],
   "source": [
    "df_new.columns"
   ]
  },
  {
   "cell_type": "code",
   "execution_count": null,
   "id": "a863aa6d-20be-4227-a490-fdecca029560",
   "metadata": {
    "tags": []
   },
   "outputs": [],
   "source": [
    "# Create a crosstab to count the occurrences of age categories in each department\n",
    "cross_tab = pd.crosstab(df_new['department'], df_new['age_category'])"
   ]
  },
  {
   "cell_type": "code",
   "execution_count": 49,
   "id": "5ae4e34e-43df-44f0-a61b-980624ca529d",
   "metadata": {
    "tags": []
   },
   "outputs": [
    {
     "data": {
      "image/png": "[encoded data removed]",
      "text/plain": [
       "<Figure size 640x480 with 1 Axes>"
      ]
     },
     "metadata": {},
     "output_type": "display_data"
    }
   ],
   "source": [
    "# Group customer profile and spending flag\n",
    "\n",
    "cust_prof_spending = df_merged.groupby(['customer_profile', 'spending_flag']).size().unstack()\n",
    "\n",
    "# Sort\n",
    "\n",
    "cust_prof_spending = cust_prof_spending.loc[cust_prof_spending.sum(axis=1).sort_values(ascending=True).index]\n",
    "\n",
    "# Create bar chart\n",
    "\n",
    "bar_cust_prof_spending = cust_prof_spending.plot.barh(stacked = True, color = ['mediumseagreen', 'lightgreen'], title = 'Customer Profiles by Spending Status')"
   ]
  },
  {
   "cell_type": "code",
   "execution_count": 50,
   "id": "c16e94d4-b5d0-411b-8819-ab2d672e8a68",
   "metadata": {
    "tags": []
   },
   "outputs": [
    {
     "data": {
      "text/plain": [
       "(None,\n",
       " <function matplotlib.pyplot.tight_layout(*, pad=1.08, h_pad=None, w_pad=None, rect=None)>)"
      ]
     },
     "execution_count": 50,
     "metadata": {},
     "output_type": "execute_result"
    }
   ],
   "source": [
    "#Export\n",
    "bar_cust_prof_spending.figure.savefig(os.path.join(path, '04 Analysis', 'Visualizations', 'stacked_cust_dept.png')), plt.tight_layout"
   ]
  },
  {
   "cell_type": "code",
   "execution_count": 71,
   "id": "852d5a24-95aa-472b-918f-40ef351da542",
   "metadata": {
    "tags": []
   },
   "outputs": [
    {
     "data": {
      "text/plain": [
       "Index(['user_id', 'first_name', 'last_name', 'gender', 'state', 'age',\n",
       "       'date_joined', 'n_dependants', 'fam_status', 'income', 'order_id',\n",
       "       'eval_set', 'order_number', 'order_dow', 'order_hour_of_day',\n",
       "       'days_since_prior_order', 'product_id', 'add_to_cart_order',\n",
       "       'reordered', 'Unnamed: 0_y', 'product_name', 'aisle_id',\n",
       "       'department_id', 'prices', 'price_range_loc', 'busiest_day',\n",
       "       'Busiest days', 'busiest_period_of_day', 'max_order', 'loyalty_flag',\n",
       "       'average_price', 'spending_flag', 'median_prior_orders',\n",
       "       'order_frequency_flag', '_merge', 'region', 'customer_activity',\n",
       "       'department', 'customer_profile'],\n",
       "      dtype='object')"
      ]
     },
     "execution_count": 71,
     "metadata": {},
     "output_type": "execute_result"
    }
   ],
   "source": [
    "df_merged.columns"
   ]
  },
  {
   "cell_type": "code",
   "execution_count": 72,
   "id": "5661e739-932c-4d36-a669-1ea132dbfc29",
   "metadata": {},
   "outputs": [
    {
     "data": {
      "text/plain": [
       "Index(['user_id', 'first_name', 'last_name', 'gender', 'state', 'age',\n",
       "       'date_joined', 'n_dependants', 'fam_status', 'income', 'order_id',\n",
       "       'eval_set', 'order_number', 'order_dow', 'order_hour_of_day',\n",
       "       'days_since_prior_order', 'product_id', 'add_to_cart_order',\n",
       "       'reordered', 'Unnamed: 0_y', 'product_name', 'aisle_id',\n",
       "       'department_id', 'prices', 'price_range_loc', 'busiest_day',\n",
       "       'Busiest days', 'busiest_period_of_day', 'max_order', 'loyalty_flag',\n",
       "       'average_price', 'spending_flag', 'median_prior_orders',\n",
       "       'order_frequency_flag', '_merge', 'customer_profile'],\n",
       "      dtype='object')"
      ]
     },
     "execution_count": 72,
     "metadata": {},
     "output_type": "execute_result"
    }
   ],
   "source": [
    "df_merged_clean.columns"
   ]
  },
  {
   "cell_type": "code",
   "execution_count": 65,
   "id": "bf125cc1-6f00-4e43-8d51-17f74d4eb6c4",
   "metadata": {
    "tags": []
   },
   "outputs": [
    {
     "data": {
      "text/plain": [
       "Index(['user_id', 'first_name', 'last_name', 'gender', 'state', 'age',\n",
       "       'date_joined', 'n_dependants', 'fam_status', 'income', 'order_id',\n",
       "       'eval_set', 'order_number', 'order_dow', 'order_hour_of_day',\n",
       "       'days_since_prior_order', 'product_id', 'add_to_cart_order',\n",
       "       'reordered', 'Unnamed: 0_y', 'product_name', 'aisle_id',\n",
       "       'department_id', 'prices', 'price_range_loc', 'busiest_day',\n",
       "       'Busiest days', 'busiest_period_of_day', 'max_order', 'loyalty_flag',\n",
       "       'average_price', 'spending_flag', 'median_prior_orders',\n",
       "       'order_frequency_flag', '_merge', 'region', 'customer_activity'],\n",
       "      dtype='object')"
      ]
     },
     "execution_count": 65,
     "metadata": {},
     "output_type": "execute_result"
    }
   ],
   "source": [
    "df_new.columns"
   ]
  },
  {
   "cell_type": "code",
   "execution_count": 8,
   "id": "de032a42-a6a8-44df-80e7-295b7ed1d456",
   "metadata": {},
   "outputs": [],
   "source": [
    "# Exporting Dataframe.\n",
    "df_merged.to_pickle(os.path.join(path, '02 Data', 'Prepared Data', 'ords_prods_dept_final_merged.pkl'))"
   ]
  },
  {
   "cell_type": "code",
   "execution_count": null,
   "id": "8b4e973a-0975-4a0e-a3f2-ac7ec1e967de",
   "metadata": {},
   "outputs": [],
   "source": []
  }
 ],
 "metadata": {
  "kernelspec": {
   "display_name": "Python 3 (ipykernel)",
   "language": "python",
   "name": "python3"
  },
  "language_info": {
   "codemirror_mode": {
    "name": "ipython",
    "version": 3
   },
   "file_extension": ".py",
   "mimetype": "text/x-python",
   "name": "python",
   "nbconvert_exporter": "python",
   "pygments_lexer": "ipython3",
   "version": "3.11.3"
  }
 },
 "nbformat": 4,
 "nbformat_minor": 5
}
